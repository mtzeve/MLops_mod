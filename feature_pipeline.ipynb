{
 "cells": [
  {
   "cell_type": "code",
   "execution_count": 24,
   "metadata": {},
   "outputs": [],
   "source": [
    "from dotenv import load_dotenv\n",
    "import os "
   ]
  },
  {
   "cell_type": "code",
   "execution_count": 25,
   "metadata": {},
   "outputs": [
    {
     "name": "stdout",
     "output_type": "stream",
     "text": [
      "Requirement already satisfied: great_expectations==0.18.12 in /Applications/anaconda3/lib/python3.11/site-packages (0.18.12)\n",
      "Requirement already satisfied: altair<5.0.0,>=4.2.1 in /Applications/anaconda3/lib/python3.11/site-packages (from great_expectations==0.18.12) (4.2.2)\n",
      "Requirement already satisfied: Click>=7.1.2 in /Applications/anaconda3/lib/python3.11/site-packages (from great_expectations==0.18.12) (8.1.7)\n",
      "Requirement already satisfied: colorama>=0.4.3 in /Applications/anaconda3/lib/python3.11/site-packages (from great_expectations==0.18.12) (0.4.6)\n",
      "Requirement already satisfied: cryptography>=3.2 in /Applications/anaconda3/lib/python3.11/site-packages (from great_expectations==0.18.12) (41.0.2)\n",
      "Requirement already satisfied: Ipython>=7.16.3 in /Applications/anaconda3/lib/python3.11/site-packages (from great_expectations==0.18.12) (8.12.0)\n",
      "Requirement already satisfied: ipywidgets>=7.5.1 in /Applications/anaconda3/lib/python3.11/site-packages (from great_expectations==0.18.12) (8.0.4)\n",
      "Requirement already satisfied: jinja2>=2.10 in /Applications/anaconda3/lib/python3.11/site-packages (from great_expectations==0.18.12) (3.0.3)\n",
      "Requirement already satisfied: jsonpatch>=1.22 in /Applications/anaconda3/lib/python3.11/site-packages (from great_expectations==0.18.12) (1.33)\n",
      "Requirement already satisfied: jsonschema>=2.5.1 in /Applications/anaconda3/lib/python3.11/site-packages (from great_expectations==0.18.12) (4.17.3)\n",
      "Requirement already satisfied: makefun<2,>=1.7.0 in /Applications/anaconda3/lib/python3.11/site-packages (from great_expectations==0.18.12) (1.15.2)\n",
      "Requirement already satisfied: marshmallow<4.0.0,>=3.7.1 in /Applications/anaconda3/lib/python3.11/site-packages (from great_expectations==0.18.12) (3.21.1)\n",
      "Requirement already satisfied: mistune>=0.8.4 in /Applications/anaconda3/lib/python3.11/site-packages (from great_expectations==0.18.12) (0.8.4)\n",
      "Requirement already satisfied: nbformat>=5.0 in /Applications/anaconda3/lib/python3.11/site-packages (from great_expectations==0.18.12) (5.7.0)\n",
      "Requirement already satisfied: notebook>=6.4.10 in /Applications/anaconda3/lib/python3.11/site-packages (from great_expectations==0.18.12) (6.5.4)\n",
      "Requirement already satisfied: packaging in /Applications/anaconda3/lib/python3.11/site-packages (from great_expectations==0.18.12) (23.2)\n",
      "Requirement already satisfied: pydantic>=1.9.2 in /Applications/anaconda3/lib/python3.11/site-packages (from great_expectations==0.18.12) (2.6.4)\n",
      "Requirement already satisfied: pyparsing>=2.4 in /Applications/anaconda3/lib/python3.11/site-packages (from great_expectations==0.18.12) (2.4.7)\n",
      "Requirement already satisfied: python-dateutil>=2.8.1 in /Applications/anaconda3/lib/python3.11/site-packages (from great_expectations==0.18.12) (2.8.2)\n",
      "Requirement already satisfied: pytz>=2021.3 in /Applications/anaconda3/lib/python3.11/site-packages (from great_expectations==0.18.12) (2022.7)\n",
      "Requirement already satisfied: requests>=2.20 in /Applications/anaconda3/lib/python3.11/site-packages (from great_expectations==0.18.12) (2.31.0)\n",
      "Requirement already satisfied: ruamel.yaml<0.17.18,>=0.16 in /Applications/anaconda3/lib/python3.11/site-packages (from great_expectations==0.18.12) (0.17.17)\n",
      "Requirement already satisfied: scipy>=1.6.0 in /Applications/anaconda3/lib/python3.11/site-packages (from great_expectations==0.18.12) (1.10.1)\n",
      "Requirement already satisfied: tqdm>=4.59.0 in /Applications/anaconda3/lib/python3.11/site-packages (from great_expectations==0.18.12) (4.66.2)\n",
      "Requirement already satisfied: typing-extensions>=3.10.0.0 in /Applications/anaconda3/lib/python3.11/site-packages (from great_expectations==0.18.12) (4.7.1)\n",
      "Requirement already satisfied: tzlocal>=1.2 in /Applications/anaconda3/lib/python3.11/site-packages (from great_expectations==0.18.12) (2.1)\n",
      "Requirement already satisfied: urllib3>=1.26 in /Applications/anaconda3/lib/python3.11/site-packages (from great_expectations==0.18.12) (2.2.1)\n",
      "Requirement already satisfied: numpy<2.0.0,>=1.22.4 in /Applications/anaconda3/lib/python3.11/site-packages (from great_expectations==0.18.12) (1.24.3)\n",
      "Requirement already satisfied: pandas>=1.3.0 in /Applications/anaconda3/lib/python3.11/site-packages (from great_expectations==0.18.12) (1.5.1)\n",
      "Requirement already satisfied: entrypoints in /Applications/anaconda3/lib/python3.11/site-packages (from altair<5.0.0,>=4.2.1->great_expectations==0.18.12) (0.4)\n",
      "Requirement already satisfied: toolz in /Applications/anaconda3/lib/python3.11/site-packages (from altair<5.0.0,>=4.2.1->great_expectations==0.18.12) (0.12.0)\n",
      "Requirement already satisfied: cffi>=1.12 in /Applications/anaconda3/lib/python3.11/site-packages (from cryptography>=3.2->great_expectations==0.18.12) (1.15.1)\n",
      "Requirement already satisfied: backcall in /Applications/anaconda3/lib/python3.11/site-packages (from Ipython>=7.16.3->great_expectations==0.18.12) (0.2.0)\n",
      "Requirement already satisfied: decorator in /Applications/anaconda3/lib/python3.11/site-packages (from Ipython>=7.16.3->great_expectations==0.18.12) (5.1.1)\n",
      "Requirement already satisfied: jedi>=0.16 in /Applications/anaconda3/lib/python3.11/site-packages (from Ipython>=7.16.3->great_expectations==0.18.12) (0.18.1)\n",
      "Requirement already satisfied: matplotlib-inline in /Applications/anaconda3/lib/python3.11/site-packages (from Ipython>=7.16.3->great_expectations==0.18.12) (0.1.6)\n",
      "Requirement already satisfied: pickleshare in /Applications/anaconda3/lib/python3.11/site-packages (from Ipython>=7.16.3->great_expectations==0.18.12) (0.7.5)\n",
      "Requirement already satisfied: prompt-toolkit!=3.0.37,<3.1.0,>=3.0.30 in /Applications/anaconda3/lib/python3.11/site-packages (from Ipython>=7.16.3->great_expectations==0.18.12) (3.0.36)\n",
      "Requirement already satisfied: pygments>=2.4.0 in /Applications/anaconda3/lib/python3.11/site-packages (from Ipython>=7.16.3->great_expectations==0.18.12) (2.15.1)\n",
      "Requirement already satisfied: stack-data in /Applications/anaconda3/lib/python3.11/site-packages (from Ipython>=7.16.3->great_expectations==0.18.12) (0.2.0)\n",
      "Requirement already satisfied: traitlets>=5 in /Applications/anaconda3/lib/python3.11/site-packages (from Ipython>=7.16.3->great_expectations==0.18.12) (5.7.1)\n",
      "Requirement already satisfied: pexpect>4.3 in /Applications/anaconda3/lib/python3.11/site-packages (from Ipython>=7.16.3->great_expectations==0.18.12) (4.8.0)\n",
      "Requirement already satisfied: appnope in /Applications/anaconda3/lib/python3.11/site-packages (from Ipython>=7.16.3->great_expectations==0.18.12) (0.1.2)\n",
      "Requirement already satisfied: ipykernel>=4.5.1 in /Applications/anaconda3/lib/python3.11/site-packages (from ipywidgets>=7.5.1->great_expectations==0.18.12) (6.19.2)\n",
      "Requirement already satisfied: widgetsnbextension~=4.0 in /Applications/anaconda3/lib/python3.11/site-packages (from ipywidgets>=7.5.1->great_expectations==0.18.12) (4.0.5)\n",
      "Requirement already satisfied: jupyterlab-widgets~=3.0 in /Applications/anaconda3/lib/python3.11/site-packages (from ipywidgets>=7.5.1->great_expectations==0.18.12) (3.0.5)\n",
      "Requirement already satisfied: MarkupSafe>=2.0 in /Applications/anaconda3/lib/python3.11/site-packages (from jinja2>=2.10->great_expectations==0.18.12) (2.0.1)\n",
      "Requirement already satisfied: jsonpointer>=1.9 in /Applications/anaconda3/lib/python3.11/site-packages (from jsonpatch>=1.22->great_expectations==0.18.12) (2.1)\n",
      "Requirement already satisfied: attrs>=17.4.0 in /Applications/anaconda3/lib/python3.11/site-packages (from jsonschema>=2.5.1->great_expectations==0.18.12) (22.1.0)\n",
      "Requirement already satisfied: pyrsistent!=0.17.0,!=0.17.1,!=0.17.2,>=0.14.0 in /Applications/anaconda3/lib/python3.11/site-packages (from jsonschema>=2.5.1->great_expectations==0.18.12) (0.18.0)\n",
      "Requirement already satisfied: fastjsonschema in /Applications/anaconda3/lib/python3.11/site-packages (from nbformat>=5.0->great_expectations==0.18.12) (2.16.2)\n",
      "Requirement already satisfied: jupyter-core in /Applications/anaconda3/lib/python3.11/site-packages (from nbformat>=5.0->great_expectations==0.18.12) (5.3.0)\n",
      "Requirement already satisfied: tornado>=6.1 in /Applications/anaconda3/lib/python3.11/site-packages (from notebook>=6.4.10->great_expectations==0.18.12) (6.3.2)\n",
      "Requirement already satisfied: pyzmq>=17 in /Applications/anaconda3/lib/python3.11/site-packages (from notebook>=6.4.10->great_expectations==0.18.12) (23.2.0)\n",
      "Requirement already satisfied: argon2-cffi in /Applications/anaconda3/lib/python3.11/site-packages (from notebook>=6.4.10->great_expectations==0.18.12) (21.3.0)\n",
      "Requirement already satisfied: jupyter-client>=5.3.4 in /Applications/anaconda3/lib/python3.11/site-packages (from notebook>=6.4.10->great_expectations==0.18.12) (7.4.9)\n",
      "Requirement already satisfied: ipython-genutils in /Applications/anaconda3/lib/python3.11/site-packages (from notebook>=6.4.10->great_expectations==0.18.12) (0.2.0)\n",
      "Requirement already satisfied: nbconvert>=5 in /Applications/anaconda3/lib/python3.11/site-packages (from notebook>=6.4.10->great_expectations==0.18.12) (6.5.4)\n",
      "Requirement already satisfied: nest-asyncio>=1.5 in /Applications/anaconda3/lib/python3.11/site-packages (from notebook>=6.4.10->great_expectations==0.18.12) (1.5.6)\n",
      "Requirement already satisfied: Send2Trash>=1.8.0 in /Applications/anaconda3/lib/python3.11/site-packages (from notebook>=6.4.10->great_expectations==0.18.12) (1.8.0)\n",
      "Requirement already satisfied: terminado>=0.8.3 in /Applications/anaconda3/lib/python3.11/site-packages (from notebook>=6.4.10->great_expectations==0.18.12) (0.17.1)\n",
      "Requirement already satisfied: prometheus-client in /Applications/anaconda3/lib/python3.11/site-packages (from notebook>=6.4.10->great_expectations==0.18.12) (0.14.1)\n",
      "Requirement already satisfied: nbclassic>=0.4.7 in /Applications/anaconda3/lib/python3.11/site-packages (from notebook>=6.4.10->great_expectations==0.18.12) (0.5.5)\n",
      "Requirement already satisfied: annotated-types>=0.4.0 in /Applications/anaconda3/lib/python3.11/site-packages (from pydantic>=1.9.2->great_expectations==0.18.12) (0.6.0)\n",
      "Requirement already satisfied: pydantic-core==2.16.3 in /Applications/anaconda3/lib/python3.11/site-packages (from pydantic>=1.9.2->great_expectations==0.18.12) (2.16.3)\n",
      "Requirement already satisfied: six>=1.5 in /Applications/anaconda3/lib/python3.11/site-packages (from python-dateutil>=2.8.1->great_expectations==0.18.12) (1.16.0)\n",
      "Requirement already satisfied: charset-normalizer<4,>=2 in /Applications/anaconda3/lib/python3.11/site-packages (from requests>=2.20->great_expectations==0.18.12) (2.0.4)\n",
      "Requirement already satisfied: idna<4,>=2.5 in /Applications/anaconda3/lib/python3.11/site-packages (from requests>=2.20->great_expectations==0.18.12) (3.4)\n",
      "Requirement already satisfied: certifi>=2017.4.17 in /Applications/anaconda3/lib/python3.11/site-packages (from requests>=2.20->great_expectations==0.18.12) (2023.7.22)\n",
      "Requirement already satisfied: pycparser in /Applications/anaconda3/lib/python3.11/site-packages (from cffi>=1.12->cryptography>=3.2->great_expectations==0.18.12) (2.21)\n",
      "Requirement already satisfied: comm>=0.1.1 in /Applications/anaconda3/lib/python3.11/site-packages (from ipykernel>=4.5.1->ipywidgets>=7.5.1->great_expectations==0.18.12) (0.1.2)\n",
      "Requirement already satisfied: debugpy>=1.0 in /Applications/anaconda3/lib/python3.11/site-packages (from ipykernel>=4.5.1->ipywidgets>=7.5.1->great_expectations==0.18.12) (1.6.7)\n",
      "Requirement already satisfied: psutil in /Applications/anaconda3/lib/python3.11/site-packages (from ipykernel>=4.5.1->ipywidgets>=7.5.1->great_expectations==0.18.12) (5.9.0)\n",
      "Requirement already satisfied: parso<0.9.0,>=0.8.0 in /Applications/anaconda3/lib/python3.11/site-packages (from jedi>=0.16->Ipython>=7.16.3->great_expectations==0.18.12) (0.8.3)\n",
      "Requirement already satisfied: platformdirs>=2.5 in /Applications/anaconda3/lib/python3.11/site-packages (from jupyter-core->nbformat>=5.0->great_expectations==0.18.12) (2.5.2)\n",
      "Requirement already satisfied: jupyter-server>=1.8 in /Applications/anaconda3/lib/python3.11/site-packages (from nbclassic>=0.4.7->notebook>=6.4.10->great_expectations==0.18.12) (1.23.4)\n",
      "Requirement already satisfied: notebook-shim>=0.1.0 in /Applications/anaconda3/lib/python3.11/site-packages (from nbclassic>=0.4.7->notebook>=6.4.10->great_expectations==0.18.12) (0.2.2)\n",
      "Requirement already satisfied: lxml in /Applications/anaconda3/lib/python3.11/site-packages (from nbconvert>=5->notebook>=6.4.10->great_expectations==0.18.12) (4.9.2)\n",
      "Requirement already satisfied: beautifulsoup4 in /Applications/anaconda3/lib/python3.11/site-packages (from nbconvert>=5->notebook>=6.4.10->great_expectations==0.18.12) (4.12.2)\n",
      "Requirement already satisfied: bleach in /Applications/anaconda3/lib/python3.11/site-packages (from nbconvert>=5->notebook>=6.4.10->great_expectations==0.18.12) (4.1.0)\n",
      "Requirement already satisfied: defusedxml in /Applications/anaconda3/lib/python3.11/site-packages (from nbconvert>=5->notebook>=6.4.10->great_expectations==0.18.12) (0.7.1)\n",
      "Requirement already satisfied: jupyterlab-pygments in /Applications/anaconda3/lib/python3.11/site-packages (from nbconvert>=5->notebook>=6.4.10->great_expectations==0.18.12) (0.1.2)\n",
      "Requirement already satisfied: nbclient>=0.5.0 in /Applications/anaconda3/lib/python3.11/site-packages (from nbconvert>=5->notebook>=6.4.10->great_expectations==0.18.12) (0.5.13)\n",
      "Requirement already satisfied: pandocfilters>=1.4.1 in /Applications/anaconda3/lib/python3.11/site-packages (from nbconvert>=5->notebook>=6.4.10->great_expectations==0.18.12) (1.5.0)\n",
      "Requirement already satisfied: tinycss2 in /Applications/anaconda3/lib/python3.11/site-packages (from nbconvert>=5->notebook>=6.4.10->great_expectations==0.18.12) (1.2.1)\n",
      "Requirement already satisfied: ptyprocess>=0.5 in /Applications/anaconda3/lib/python3.11/site-packages (from pexpect>4.3->Ipython>=7.16.3->great_expectations==0.18.12) (0.7.0)\n",
      "Requirement already satisfied: wcwidth in /Applications/anaconda3/lib/python3.11/site-packages (from prompt-toolkit!=3.0.37,<3.1.0,>=3.0.30->Ipython>=7.16.3->great_expectations==0.18.12) (0.2.5)\n",
      "Requirement already satisfied: argon2-cffi-bindings in /Applications/anaconda3/lib/python3.11/site-packages (from argon2-cffi->notebook>=6.4.10->great_expectations==0.18.12) (21.2.0)\n",
      "Requirement already satisfied: executing in /Applications/anaconda3/lib/python3.11/site-packages (from stack-data->Ipython>=7.16.3->great_expectations==0.18.12) (0.8.3)\n",
      "Requirement already satisfied: asttokens in /Applications/anaconda3/lib/python3.11/site-packages (from stack-data->Ipython>=7.16.3->great_expectations==0.18.12) (2.0.5)\n",
      "Requirement already satisfied: pure-eval in /Applications/anaconda3/lib/python3.11/site-packages (from stack-data->Ipython>=7.16.3->great_expectations==0.18.12) (0.2.2)\n",
      "Requirement already satisfied: anyio<4,>=3.1.0 in /Applications/anaconda3/lib/python3.11/site-packages (from jupyter-server>=1.8->nbclassic>=0.4.7->notebook>=6.4.10->great_expectations==0.18.12) (3.7.1)\n",
      "Requirement already satisfied: websocket-client in /Applications/anaconda3/lib/python3.11/site-packages (from jupyter-server>=1.8->nbclassic>=0.4.7->notebook>=6.4.10->great_expectations==0.18.12) (1.7.0)\n",
      "Requirement already satisfied: soupsieve>1.2 in /Applications/anaconda3/lib/python3.11/site-packages (from beautifulsoup4->nbconvert>=5->notebook>=6.4.10->great_expectations==0.18.12) (2.4)\n",
      "Requirement already satisfied: webencodings in /Applications/anaconda3/lib/python3.11/site-packages (from bleach->nbconvert>=5->notebook>=6.4.10->great_expectations==0.18.12) (0.5.1)\n",
      "Requirement already satisfied: sniffio>=1.1 in /Applications/anaconda3/lib/python3.11/site-packages (from anyio<4,>=3.1.0->jupyter-server>=1.8->nbclassic>=0.4.7->notebook>=6.4.10->great_expectations==0.18.12) (1.2.0)\n"
     ]
    }
   ],
   "source": [
    "!pip install great_expectations==0.18.12"
   ]
  },
  {
   "cell_type": "code",
   "execution_count": 26,
   "metadata": {},
   "outputs": [],
   "source": [
    "# Import necessary libraries\n",
    "import pandas as pd               # For data manipulation using DataFrames\n",
    "import numpy as np                # For numerical operations\n",
    "import matplotlib.pyplot as plt   # For data visualization\n",
    "import os                         # For operating system-related tasks\n",
    "import joblib                     # For saving and loading models\n",
    "import hopsworks                  # For getting access to hopsworks\n",
    "\n",
    "\n",
    "\n",
    "# Import specific modules from scikit-learn\n",
    "from sklearn.preprocessing import StandardScaler, OneHotEncoder   # For data preprocessing\n",
    "from sklearn.metrics import accuracy_score                        # For evaluating model accuracy"
   ]
  },
  {
   "cell_type": "code",
   "execution_count": 27,
   "metadata": {},
   "outputs": [],
   "source": [
    "#from alpha_vantage.timeseries import TimeSeries\n",
    "#import pandas as pd\n",
    "\n",
    "#load_dotenv()\n",
    "\n",
    "#api_key = os.environ.get('stocks_api') # Replace this with your actual API key\n",
    "#ts = TimeSeries(key=api_key, output_format='pandas')\n",
    "\n",
    "# Fetch daily adjusted stock prices; adjust the symbol as needed\n",
    "#data, meta_data = ts.get_daily(symbol='TSLA', outputsize='full')\n",
    "\n",
    "#print(data.head())"
   ]
  },
  {
   "cell_type": "code",
   "execution_count": 28,
   "metadata": {},
   "outputs": [],
   "source": [
    "#data.info()"
   ]
  },
  {
   "cell_type": "code",
   "execution_count": 29,
   "metadata": {},
   "outputs": [],
   "source": [
    "#meta_data"
   ]
  },
  {
   "cell_type": "code",
   "execution_count": 30,
   "metadata": {},
   "outputs": [],
   "source": [
    "# Define your file path and name\n",
    "#file_path = 'TSLA_stock_price.csv'  # Customize the path and filename\n",
    "\n",
    "# Save the DataFrame to CSV\n",
    "#stock_data.to_csv(file_path)\n",
    "\n",
    "#print(f\"Data saved to {file_path}\")\n"
   ]
  },
  {
   "cell_type": "code",
   "execution_count": 31,
   "metadata": {},
   "outputs": [
    {
     "name": "stdout",
     "output_type": "stream",
     "text": [
      "         date  1. open  2. high    3. low  4. close    5. volume ticker\n",
      "0  2024-05-03   182.10   184.78  178.4200    181.19   75491539.0   TSLA\n",
      "1  2024-05-02   182.86   184.60  176.0200    180.01   89148041.0   TSLA\n",
      "2  2024-05-01   182.00   185.86  179.0100    179.99   92829719.0   TSLA\n",
      "3  2024-04-30   186.98   190.95  182.8401    183.28  127031787.0   TSLA\n",
      "4  2024-04-29   188.42   198.87  184.5400    194.05  243869678.0   TSLA\n"
     ]
    }
   ],
   "source": [
    "# Load and display the data from CSV to confirm\n",
    "tsla_df = pd.read_csv('TSLA_stock_price.csv')\n",
    "print(tsla_df.head())\n",
    "    "
   ]
  },
  {
   "cell_type": "code",
   "execution_count": 32,
   "metadata": {},
   "outputs": [
    {
     "name": "stdout",
     "output_type": "stream",
     "text": [
      "Connection closed.\n",
      "Connected. Call `.close()` to terminate connection gracefully.\n",
      "\n",
      "Logged in to project, explore it here https://c.app.hopsworks.ai:443/p/549016\n",
      "Connected. Call `.close()` to terminate connection gracefully.\n"
     ]
    }
   ],
   "source": [
    "api_key = os.environ.get('hopsworks_api')\n",
    "project = hopsworks.login(api_key_value=api_key)\n",
    "fs = project.get_feature_store()"
   ]
  },
  {
   "cell_type": "code",
   "execution_count": 33,
   "metadata": {},
   "outputs": [],
   "source": [
    "import re "
   ]
  },
  {
   "cell_type": "code",
   "execution_count": 34,
   "metadata": {},
   "outputs": [],
   "source": [
    "def clean_column_name(name):\n",
    "    # Remove all non-letter characters\n",
    "    cleaned_name = re.sub(r'[^a-zA-Z]', '', name)\n",
    "    return cleaned_name\n"
   ]
  },
  {
   "cell_type": "code",
   "execution_count": 35,
   "metadata": {},
   "outputs": [
    {
     "data": {
      "text/html": [
       "<div>\n",
       "<style scoped>\n",
       "    .dataframe tbody tr th:only-of-type {\n",
       "        vertical-align: middle;\n",
       "    }\n",
       "\n",
       "    .dataframe tbody tr th {\n",
       "        vertical-align: top;\n",
       "    }\n",
       "\n",
       "    .dataframe thead th {\n",
       "        text-align: right;\n",
       "    }\n",
       "</style>\n",
       "<table border=\"1\" class=\"dataframe\">\n",
       "  <thead>\n",
       "    <tr style=\"text-align: right;\">\n",
       "      <th></th>\n",
       "      <th>date</th>\n",
       "      <th>1. open</th>\n",
       "      <th>2. high</th>\n",
       "      <th>3. low</th>\n",
       "      <th>4. close</th>\n",
       "      <th>5. volume</th>\n",
       "      <th>ticker</th>\n",
       "    </tr>\n",
       "  </thead>\n",
       "  <tbody>\n",
       "    <tr>\n",
       "      <th>0</th>\n",
       "      <td>2024-05-03</td>\n",
       "      <td>182.10</td>\n",
       "      <td>184.7800</td>\n",
       "      <td>178.4200</td>\n",
       "      <td>181.19</td>\n",
       "      <td>75491539.0</td>\n",
       "      <td>TSLA</td>\n",
       "    </tr>\n",
       "    <tr>\n",
       "      <th>1</th>\n",
       "      <td>2024-05-02</td>\n",
       "      <td>182.86</td>\n",
       "      <td>184.6000</td>\n",
       "      <td>176.0200</td>\n",
       "      <td>180.01</td>\n",
       "      <td>89148041.0</td>\n",
       "      <td>TSLA</td>\n",
       "    </tr>\n",
       "    <tr>\n",
       "      <th>2</th>\n",
       "      <td>2024-05-01</td>\n",
       "      <td>182.00</td>\n",
       "      <td>185.8600</td>\n",
       "      <td>179.0100</td>\n",
       "      <td>179.99</td>\n",
       "      <td>92829719.0</td>\n",
       "      <td>TSLA</td>\n",
       "    </tr>\n",
       "    <tr>\n",
       "      <th>3</th>\n",
       "      <td>2024-04-30</td>\n",
       "      <td>186.98</td>\n",
       "      <td>190.9500</td>\n",
       "      <td>182.8401</td>\n",
       "      <td>183.28</td>\n",
       "      <td>127031787.0</td>\n",
       "      <td>TSLA</td>\n",
       "    </tr>\n",
       "    <tr>\n",
       "      <th>4</th>\n",
       "      <td>2024-04-29</td>\n",
       "      <td>188.42</td>\n",
       "      <td>198.8700</td>\n",
       "      <td>184.5400</td>\n",
       "      <td>194.05</td>\n",
       "      <td>243869678.0</td>\n",
       "      <td>TSLA</td>\n",
       "    </tr>\n",
       "    <tr>\n",
       "      <th>...</th>\n",
       "      <td>...</td>\n",
       "      <td>...</td>\n",
       "      <td>...</td>\n",
       "      <td>...</td>\n",
       "      <td>...</td>\n",
       "      <td>...</td>\n",
       "      <td>...</td>\n",
       "    </tr>\n",
       "    <tr>\n",
       "      <th>3481</th>\n",
       "      <td>2010-07-06</td>\n",
       "      <td>20.00</td>\n",
       "      <td>20.0000</td>\n",
       "      <td>15.8300</td>\n",
       "      <td>16.11</td>\n",
       "      <td>6866900.0</td>\n",
       "      <td>TSLA</td>\n",
       "    </tr>\n",
       "    <tr>\n",
       "      <th>3482</th>\n",
       "      <td>2010-07-02</td>\n",
       "      <td>23.00</td>\n",
       "      <td>23.1000</td>\n",
       "      <td>18.7100</td>\n",
       "      <td>19.20</td>\n",
       "      <td>5139800.0</td>\n",
       "      <td>TSLA</td>\n",
       "    </tr>\n",
       "    <tr>\n",
       "      <th>3483</th>\n",
       "      <td>2010-07-01</td>\n",
       "      <td>25.00</td>\n",
       "      <td>25.9200</td>\n",
       "      <td>20.2700</td>\n",
       "      <td>21.96</td>\n",
       "      <td>8218800.0</td>\n",
       "      <td>TSLA</td>\n",
       "    </tr>\n",
       "    <tr>\n",
       "      <th>3484</th>\n",
       "      <td>2010-06-30</td>\n",
       "      <td>25.79</td>\n",
       "      <td>30.4192</td>\n",
       "      <td>23.3000</td>\n",
       "      <td>23.83</td>\n",
       "      <td>17187100.0</td>\n",
       "      <td>TSLA</td>\n",
       "    </tr>\n",
       "    <tr>\n",
       "      <th>3485</th>\n",
       "      <td>2010-06-29</td>\n",
       "      <td>19.00</td>\n",
       "      <td>25.0000</td>\n",
       "      <td>17.5400</td>\n",
       "      <td>23.89</td>\n",
       "      <td>18766300.0</td>\n",
       "      <td>TSLA</td>\n",
       "    </tr>\n",
       "  </tbody>\n",
       "</table>\n",
       "<p>3486 rows × 7 columns</p>\n",
       "</div>"
      ],
      "text/plain": [
       "            date  1. open   2. high    3. low  4. close    5. volume ticker\n",
       "0     2024-05-03   182.10  184.7800  178.4200    181.19   75491539.0   TSLA\n",
       "1     2024-05-02   182.86  184.6000  176.0200    180.01   89148041.0   TSLA\n",
       "2     2024-05-01   182.00  185.8600  179.0100    179.99   92829719.0   TSLA\n",
       "3     2024-04-30   186.98  190.9500  182.8401    183.28  127031787.0   TSLA\n",
       "4     2024-04-29   188.42  198.8700  184.5400    194.05  243869678.0   TSLA\n",
       "...          ...      ...       ...       ...       ...          ...    ...\n",
       "3481  2010-07-06    20.00   20.0000   15.8300     16.11    6866900.0   TSLA\n",
       "3482  2010-07-02    23.00   23.1000   18.7100     19.20    5139800.0   TSLA\n",
       "3483  2010-07-01    25.00   25.9200   20.2700     21.96    8218800.0   TSLA\n",
       "3484  2010-06-30    25.79   30.4192   23.3000     23.83   17187100.0   TSLA\n",
       "3485  2010-06-29    19.00   25.0000   17.5400     23.89   18766300.0   TSLA\n",
       "\n",
       "[3486 rows x 7 columns]"
      ]
     },
     "execution_count": 35,
     "metadata": {},
     "output_type": "execute_result"
    }
   ],
   "source": [
    "tsla_df"
   ]
  },
  {
   "cell_type": "code",
   "execution_count": 36,
   "metadata": {},
   "outputs": [],
   "source": [
    "# Assuming 'tsla_df' is your DataFrame\n",
    "tsla_df.columns = [clean_column_name(col) for col in tsla_df.columns]\n"
   ]
  },
  {
   "cell_type": "code",
   "execution_count": 37,
   "metadata": {},
   "outputs": [
    {
     "name": "stdout",
     "output_type": "stream",
     "text": [
      "Index(['date', 'open', 'high', 'low', 'close', 'volume', 'ticker'], dtype='object')\n"
     ]
    }
   ],
   "source": [
    "print(tsla_df.columns)\n"
   ]
  },
  {
   "cell_type": "code",
   "execution_count": 38,
   "metadata": {},
   "outputs": [],
   "source": [
    "import pandas as pd\n",
    "\n",
    "# Assuming tsla_df is your pandas DataFrame\n",
    "# Convert the \"date\" column to timestamp\n",
    "tsla_df['date'] = pd.to_datetime(tsla_df['date'])\n"
   ]
  },
  {
   "cell_type": "code",
   "execution_count": 39,
   "metadata": {},
   "outputs": [
    {
     "name": "stdout",
     "output_type": "stream",
     "text": [
      "2024-05-06 11:35:29,224 WARNING: DeprecationWarning: Providing event_time as a single-element list is deprecated and will be dropped in future versions. Provide the feature_name string instead.\n",
      "\n"
     ]
    }
   ],
   "source": [
    "# Define a feature group\n",
    "tesla_fg = fs.get_or_create_feature_group(\n",
    "    name=\"tesla_stock\",\n",
    "    description=\"Tesla stock dataset from alpha vantage\",\n",
    "    version=1,\n",
    "    primary_key=[\"ticker\"],\n",
    "    event_time=['date'],\n",
    "    online_enabled=False,\n",
    ")"
   ]
  },
  {
   "cell_type": "code",
   "execution_count": 40,
   "metadata": {},
   "outputs": [
    {
     "name": "stdout",
     "output_type": "stream",
     "text": [
      "Feature Group created successfully, explore it at \n",
      "https://c.app.hopsworks.ai:443/p/549016/fs/544838/fg/787790\n"
     ]
    },
    {
     "data": {
      "application/vnd.jupyter.widget-view+json": {
       "model_id": "52bb5493d0dd4abebd6f8b5781a2727c",
       "version_major": 2,
       "version_minor": 0
      },
      "text/plain": [
       "Uploading Dataframe: 0.00% |          | Rows 0/3486 | Elapsed Time: 00:00 | Remaining Time: ?"
      ]
     },
     "metadata": {},
     "output_type": "display_data"
    },
    {
     "name": "stdout",
     "output_type": "stream",
     "text": [
      "Launching job: tesla_stock_1_offline_fg_materialization\n",
      "Job started successfully, you can follow the progress at \n",
      "https://c.app.hopsworks.ai/p/549016/jobs/named/tesla_stock_1_offline_fg_materialization/executions\n"
     ]
    },
    {
     "data": {
      "text/plain": [
       "(<hsfs.core.job.Job at 0x304ac0c90>, None)"
      ]
     },
     "execution_count": 40,
     "metadata": {},
     "output_type": "execute_result"
    }
   ],
   "source": [
    "tesla_fg.insert(tsla_df, write_options={\"wait_for_job\" : False})"
   ]
  },
  {
   "cell_type": "code",
   "execution_count": 41,
   "metadata": {},
   "outputs": [],
   "source": [
    "news_df = pd.read_csv('news_articles_ema.csv')\n"
   ]
  },
  {
   "cell_type": "code",
   "execution_count": 42,
   "metadata": {},
   "outputs": [],
   "source": [
    "news_df_updated = news_df.drop(columns=['exp_mean_7_days'])"
   ]
  },
  {
   "cell_type": "code",
   "execution_count": 43,
   "metadata": {},
   "outputs": [],
   "source": [
    "news_df_updated['date'] = pd.to_datetime(news_df_updated['date'])"
   ]
  },
  {
   "cell_type": "code",
   "execution_count": 44,
   "metadata": {},
   "outputs": [
    {
     "name": "stdout",
     "output_type": "stream",
     "text": [
      "2024-05-06 11:35:39,174 WARNING: DeprecationWarning: Providing event_time as a single-element list is deprecated and will be dropped in future versions. Provide the feature_name string instead.\n",
      "\n"
     ]
    }
   ],
   "source": [
    "news_sentiment_fg = fs.get_or_create_feature_group(\n",
    "    name='news_sentiment_updated',\n",
    "    description='News sentiment from Polygon',\n",
    "    version=1,\n",
    "    primary_key=['ticker'],\n",
    "    event_time=['date'],\n",
    "    online_enabled=False,\n",
    ")"
   ]
  },
  {
   "cell_type": "code",
   "execution_count": 45,
   "metadata": {},
   "outputs": [
    {
     "name": "stdout",
     "output_type": "stream",
     "text": [
      "Feature Group created successfully, explore it at \n",
      "https://c.app.hopsworks.ai:443/p/549016/fs/544838/fg/785773\n"
     ]
    },
    {
     "data": {
      "application/vnd.jupyter.widget-view+json": {
       "model_id": "150c7a2bb8aa49b3a9e2445b1374955e",
       "version_major": 2,
       "version_minor": 0
      },
      "text/plain": [
       "Uploading Dataframe: 0.00% |          | Rows 0/66 | Elapsed Time: 00:00 | Remaining Time: ?"
      ]
     },
     "metadata": {},
     "output_type": "display_data"
    },
    {
     "name": "stdout",
     "output_type": "stream",
     "text": [
      "Launching job: news_sentiment_updated_1_offline_fg_materialization\n",
      "Job started successfully, you can follow the progress at \n",
      "https://c.app.hopsworks.ai/p/549016/jobs/named/news_sentiment_updated_1_offline_fg_materialization/executions\n"
     ]
    },
    {
     "data": {
      "text/plain": [
       "(<hsfs.core.job.Job at 0x17bc96990>, None)"
      ]
     },
     "execution_count": 45,
     "metadata": {},
     "output_type": "execute_result"
    }
   ],
   "source": [
    "news_sentiment_fg.insert(news_df_updated)"
   ]
  }
 ],
 "metadata": {
  "kernelspec": {
   "display_name": "base",
   "language": "python",
   "name": "python3"
  },
  "language_info": {
   "codemirror_mode": {
    "name": "ipython",
    "version": 3
   },
   "file_extension": ".py",
   "mimetype": "text/x-python",
   "name": "python",
   "nbconvert_exporter": "python",
   "pygments_lexer": "ipython3",
   "version": "3.11.4"
  },
  "orig_nbformat": 4
 },
 "nbformat": 4,
 "nbformat_minor": 2
}
