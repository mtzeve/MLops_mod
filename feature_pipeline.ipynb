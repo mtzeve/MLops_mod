{
 "cells": [
  {
   "cell_type": "code",
   "execution_count": 3,
   "metadata": {},
   "outputs": [],
   "source": [
    "#from dotenv import load_dotenv\n",
    "#import os "
   ]
  },
  {
   "cell_type": "code",
   "execution_count": 4,
   "metadata": {},
   "outputs": [
    {
     "name": "stdout",
     "output_type": "stream",
     "text": [
      "            1. open  2. high    3. low  4. close    5. volume\n",
      "date                                                         \n",
      "2024-04-30   186.98   190.95  182.8401    183.28  127031787.0\n",
      "2024-04-29   188.42   198.87  184.5400    194.05  243869678.0\n",
      "2024-04-26   168.85   172.12  166.3700    168.29  109815725.0\n",
      "2024-04-25   158.96   170.88  158.3600    170.18  126427521.0\n",
      "2024-04-24   162.84   167.97  157.5100    162.13  181178020.0\n"
     ]
    }
   ],
   "source": [
    "#from alpha_vantage.timeseries import TimeSeries\n",
    "#import pandas as pd\n",
    "\n",
    "#load_dotenv()\n",
    "\n",
    "#api_key = os.environ.get('stocks_api') # Replace this with your actual API key\n",
    "#ts = TimeSeries(key=api_key, output_format='pandas')\n",
    "\n",
    "# Fetch daily adjusted stock prices; adjust the symbol as needed\n",
    "#data, meta_data = ts.get_daily(symbol='TSLA', outputsize='full')\n",
    "\n",
    "#print(data.head())"
   ]
  },
  {
   "cell_type": "code",
   "execution_count": 5,
   "metadata": {},
   "outputs": [
    {
     "name": "stdout",
     "output_type": "stream",
     "text": [
      "<class 'pandas.core.frame.DataFrame'>\n",
      "DatetimeIndex: 3483 entries, 2024-04-30 to 2010-06-29\n",
      "Data columns (total 5 columns):\n",
      " #   Column     Non-Null Count  Dtype  \n",
      "---  ------     --------------  -----  \n",
      " 0   1. open    3483 non-null   float64\n",
      " 1   2. high    3483 non-null   float64\n",
      " 2   3. low     3483 non-null   float64\n",
      " 3   4. close   3483 non-null   float64\n",
      " 4   5. volume  3483 non-null   float64\n",
      "dtypes: float64(5)\n",
      "memory usage: 163.3 KB\n"
     ]
    }
   ],
   "source": [
    "#data.info()"
   ]
  },
  {
   "cell_type": "code",
   "execution_count": 6,
   "metadata": {},
   "outputs": [
    {
     "data": {
      "text/plain": [
       "{'1. Information': 'Daily Prices (open, high, low, close) and Volumes',\n",
       " '2. Symbol': 'TSLA',\n",
       " '3. Last Refreshed': '2024-04-30',\n",
       " '4. Output Size': 'Full size',\n",
       " '5. Time Zone': 'US/Eastern'}"
      ]
     },
     "execution_count": 6,
     "metadata": {},
     "output_type": "execute_result"
    }
   ],
   "source": [
    "#meta_data"
   ]
  },
  {
   "cell_type": "code",
   "execution_count": 6,
   "metadata": {},
   "outputs": [
    {
     "name": "stdout",
     "output_type": "stream",
     "text": [
      "Data saved to /Users/manos/Documents/BDS/MLops_mod/TSLA_stock_price.csv\n"
     ]
    }
   ],
   "source": [
    "# Define your file path and name\n",
    "file_path = '/Users/manos/Documents/BDS/MLops_mod/TSLA_stock_price.csv'  # Customize the path and filename\n",
    "\n",
    "# Save the DataFrame to CSV\n",
    "data.to_csv(file_path)\n",
    "\n",
    "print(f\"Data saved to {file_path}\")\n"
   ]
  },
  {
   "cell_type": "code",
   "execution_count": 7,
   "metadata": {},
   "outputs": [
    {
     "name": "stdout",
     "output_type": "stream",
     "text": [
      "         date  1. open  2. high  3. low  4. close    5. volume\n",
      "0  2024-04-29   188.42   198.87  184.54    194.05  243869678.0\n",
      "1  2024-04-26   168.85   172.12  166.37    168.29  109815725.0\n",
      "2  2024-04-25   158.96   170.88  158.36    170.18  126427521.0\n",
      "3  2024-04-24   162.84   167.97  157.51    162.13  181178020.0\n",
      "4  2024-04-23   143.33   147.26  141.11    144.68  124545104.0\n"
     ]
    }
   ],
   "source": [
    "# Load and display the data from CSV to confirm\n",
    "tsla_df = pd.read_csv(file_path)\n",
    "print(tsla_df.head())\n"
   ]
  },
  {
   "cell_type": "code",
   "execution_count": 8,
   "metadata": {},
   "outputs": [
    {
     "name": "stdout",
     "output_type": "stream",
     "text": [
      "Connected. Call `.close()` to terminate connection gracefully.\n"
     ]
    },
    {
     "name": "stderr",
     "output_type": "stream",
     "text": [
      "\n",
      "\n",
      "UserWarning: The installed hopsworks client version 3.4.4 may not be compatible with the connected Hopsworks backend version 3.7.1. \n",
      "To ensure compatibility please install the latest bug fix release matching the minor version of your backend (3.7) by running 'pip install hopsworks==3.7.*'\n"
     ]
    },
    {
     "name": "stdout",
     "output_type": "stream",
     "text": [
      "\n",
      "Logged in to project, explore it here https://c.app.hopsworks.ai:443/p/549016\n",
      "Connected. Call `.close()` to terminate connection gracefully.\n"
     ]
    }
   ],
   "source": [
    "import hopsworks\n",
    "\n",
    "project = hopsworks.login()\n",
    "fs = project.get_feature_store()\n"
   ]
  },
  {
   "cell_type": "code",
   "execution_count": 9,
   "metadata": {},
   "outputs": [],
   "source": [
    "#import re "
   ]
  },
  {
   "cell_type": "code",
   "execution_count": 10,
   "metadata": {},
   "outputs": [],
   "source": [
    "#def clean_column_name(name):\n",
    "    # Remove all non-letter characters\n",
    "    #cleaned_name = re.sub(r'[^a-zA-Z]', '', name)\n",
    "    #return cleaned_name\n"
   ]
  },
  {
   "cell_type": "code",
   "execution_count": 11,
   "metadata": {},
   "outputs": [
    {
     "data": {
      "text/html": [
       "<div>\n",
       "<style scoped>\n",
       "    .dataframe tbody tr th:only-of-type {\n",
       "        vertical-align: middle;\n",
       "    }\n",
       "\n",
       "    .dataframe tbody tr th {\n",
       "        vertical-align: top;\n",
       "    }\n",
       "\n",
       "    .dataframe thead th {\n",
       "        text-align: right;\n",
       "    }\n",
       "</style>\n",
       "<table border=\"1\" class=\"dataframe\">\n",
       "  <thead>\n",
       "    <tr style=\"text-align: right;\">\n",
       "      <th></th>\n",
       "      <th>date</th>\n",
       "      <th>1. open</th>\n",
       "      <th>2. high</th>\n",
       "      <th>3. low</th>\n",
       "      <th>4. close</th>\n",
       "      <th>5. volume</th>\n",
       "    </tr>\n",
       "  </thead>\n",
       "  <tbody>\n",
       "    <tr>\n",
       "      <th>0</th>\n",
       "      <td>2024-04-29</td>\n",
       "      <td>188.42</td>\n",
       "      <td>198.8700</td>\n",
       "      <td>184.54</td>\n",
       "      <td>194.05</td>\n",
       "      <td>243869678.0</td>\n",
       "    </tr>\n",
       "    <tr>\n",
       "      <th>1</th>\n",
       "      <td>2024-04-26</td>\n",
       "      <td>168.85</td>\n",
       "      <td>172.1200</td>\n",
       "      <td>166.37</td>\n",
       "      <td>168.29</td>\n",
       "      <td>109815725.0</td>\n",
       "    </tr>\n",
       "    <tr>\n",
       "      <th>2</th>\n",
       "      <td>2024-04-25</td>\n",
       "      <td>158.96</td>\n",
       "      <td>170.8800</td>\n",
       "      <td>158.36</td>\n",
       "      <td>170.18</td>\n",
       "      <td>126427521.0</td>\n",
       "    </tr>\n",
       "    <tr>\n",
       "      <th>3</th>\n",
       "      <td>2024-04-24</td>\n",
       "      <td>162.84</td>\n",
       "      <td>167.9700</td>\n",
       "      <td>157.51</td>\n",
       "      <td>162.13</td>\n",
       "      <td>181178020.0</td>\n",
       "    </tr>\n",
       "    <tr>\n",
       "      <th>4</th>\n",
       "      <td>2024-04-23</td>\n",
       "      <td>143.33</td>\n",
       "      <td>147.2600</td>\n",
       "      <td>141.11</td>\n",
       "      <td>144.68</td>\n",
       "      <td>124545104.0</td>\n",
       "    </tr>\n",
       "    <tr>\n",
       "      <th>...</th>\n",
       "      <td>...</td>\n",
       "      <td>...</td>\n",
       "      <td>...</td>\n",
       "      <td>...</td>\n",
       "      <td>...</td>\n",
       "      <td>...</td>\n",
       "    </tr>\n",
       "    <tr>\n",
       "      <th>3477</th>\n",
       "      <td>2010-07-06</td>\n",
       "      <td>20.00</td>\n",
       "      <td>20.0000</td>\n",
       "      <td>15.83</td>\n",
       "      <td>16.11</td>\n",
       "      <td>6866900.0</td>\n",
       "    </tr>\n",
       "    <tr>\n",
       "      <th>3478</th>\n",
       "      <td>2010-07-02</td>\n",
       "      <td>23.00</td>\n",
       "      <td>23.1000</td>\n",
       "      <td>18.71</td>\n",
       "      <td>19.20</td>\n",
       "      <td>5139800.0</td>\n",
       "    </tr>\n",
       "    <tr>\n",
       "      <th>3479</th>\n",
       "      <td>2010-07-01</td>\n",
       "      <td>25.00</td>\n",
       "      <td>25.9200</td>\n",
       "      <td>20.27</td>\n",
       "      <td>21.96</td>\n",
       "      <td>8218800.0</td>\n",
       "    </tr>\n",
       "    <tr>\n",
       "      <th>3480</th>\n",
       "      <td>2010-06-30</td>\n",
       "      <td>25.79</td>\n",
       "      <td>30.4192</td>\n",
       "      <td>23.30</td>\n",
       "      <td>23.83</td>\n",
       "      <td>17187100.0</td>\n",
       "    </tr>\n",
       "    <tr>\n",
       "      <th>3481</th>\n",
       "      <td>2010-06-29</td>\n",
       "      <td>19.00</td>\n",
       "      <td>25.0000</td>\n",
       "      <td>17.54</td>\n",
       "      <td>23.89</td>\n",
       "      <td>18766300.0</td>\n",
       "    </tr>\n",
       "  </tbody>\n",
       "</table>\n",
       "<p>3482 rows × 6 columns</p>\n",
       "</div>"
      ],
      "text/plain": [
       "            date  1. open   2. high  3. low  4. close    5. volume\n",
       "0     2024-04-29   188.42  198.8700  184.54    194.05  243869678.0\n",
       "1     2024-04-26   168.85  172.1200  166.37    168.29  109815725.0\n",
       "2     2024-04-25   158.96  170.8800  158.36    170.18  126427521.0\n",
       "3     2024-04-24   162.84  167.9700  157.51    162.13  181178020.0\n",
       "4     2024-04-23   143.33  147.2600  141.11    144.68  124545104.0\n",
       "...          ...      ...       ...     ...       ...          ...\n",
       "3477  2010-07-06    20.00   20.0000   15.83     16.11    6866900.0\n",
       "3478  2010-07-02    23.00   23.1000   18.71     19.20    5139800.0\n",
       "3479  2010-07-01    25.00   25.9200   20.27     21.96    8218800.0\n",
       "3480  2010-06-30    25.79   30.4192   23.30     23.83   17187100.0\n",
       "3481  2010-06-29    19.00   25.0000   17.54     23.89   18766300.0\n",
       "\n",
       "[3482 rows x 6 columns]"
      ]
     },
     "execution_count": 11,
     "metadata": {},
     "output_type": "execute_result"
    }
   ],
   "source": [
    "#tsla_df"
   ]
  },
  {
   "cell_type": "code",
   "execution_count": 12,
   "metadata": {},
   "outputs": [],
   "source": [
    "# Assuming 'tsla_df' is your DataFrame\n",
    "#tsla_df.columns = [clean_column_name(col) for col in tsla_df.columns]\n"
   ]
  },
  {
   "cell_type": "code",
   "execution_count": 13,
   "metadata": {},
   "outputs": [
    {
     "name": "stdout",
     "output_type": "stream",
     "text": [
      "Index(['date', 'open', 'high', 'low', 'close', 'volume'], dtype='object')\n"
     ]
    }
   ],
   "source": [
    "#print(tsla_df.columns)\n"
   ]
  },
  {
   "cell_type": "code",
   "execution_count": 14,
   "metadata": {},
   "outputs": [],
   "source": [
    "# Define a feature group\n",
    "tesla_fg = fs.get_or_create_feature_group(\n",
    "    name=\"tsla_stock\",\n",
    "    description=\"Tesla stock dataset from alpha vantage\",\n",
    "    version=1,\n",
    "    primary_key=[\"date\"],\n",
    "    online_enabled=True,\n",
    ")"
   ]
  },
  {
   "cell_type": "code",
   "execution_count": 15,
   "metadata": {},
   "outputs": [
    {
     "data": {
      "application/vnd.jupyter.widget-view+json": {
       "model_id": "ae6a0214d34943cabcdd66d70198ae3a",
       "version_major": 2,
       "version_minor": 0
      },
      "text/plain": [
       "Uploading Dataframe: 0.00% |          | Rows 0/3482 | Elapsed Time: 00:00 | Remaining Time: ?"
      ]
     },
     "metadata": {},
     "output_type": "display_data"
    },
    {
     "name": "stdout",
     "output_type": "stream",
     "text": [
      "Launching job: tsla_stock_1_offline_fg_materialization\n",
      "Job started successfully, you can follow the progress at \n",
      "https://c.app.hopsworks.ai/p/549016/jobs/named/tsla_stock_1_offline_fg_materialization/executions\n"
     ]
    },
    {
     "data": {
      "text/plain": [
       "(<hsfs.core.job.Job at 0x162ac3e50>, None)"
      ]
     },
     "execution_count": 15,
     "metadata": {},
     "output_type": "execute_result"
    }
   ],
   "source": [
    "tesla_fg.insert(tsla_df, write_options={\"wait_for_job\" : False})"
   ]
  },
  {
   "cell_type": "code",
   "execution_count": 18,
   "metadata": {},
   "outputs": [
    {
     "name": "stdout",
     "output_type": "stream",
     "text": [
      "Feature Group created successfully, explore it at \n",
      "https://c.app.hopsworks.ai:443/p/549016/fs/544838/fg/766341\n"
     ]
    },
    {
     "data": {
      "application/vnd.jupyter.widget-view+json": {
       "model_id": "74f0d70aeb3942c093321c530120434e",
       "version_major": 2,
       "version_minor": 0
      },
      "text/plain": [
       "Uploading Dataframe: 0.00% |          | Rows 0/712 | Elapsed Time: 00:00 | Remaining Time: ?"
      ]
     },
     "metadata": {},
     "output_type": "display_data"
    },
    {
     "name": "stdout",
     "output_type": "stream",
     "text": [
      "Launching job: news_sentiment_1_offline_fg_materialization\n",
      "Job started successfully, you can follow the progress at \n",
      "https://c.app.hopsworks.ai/p/549016/jobs/named/news_sentiment_1_offline_fg_materialization/executions\n"
     ]
    },
    {
     "data": {
      "text/plain": [
       "(<hsfs.core.job.Job at 0x164180710>, None)"
      ]
     },
     "execution_count": 18,
     "metadata": {},
     "output_type": "execute_result"
    }
   ],
   "source": [
    "# Create feature group for historical news data\n",
    "news_df = pd.read_csv('/Users/manos/Documents/BDS/MLops_mod/news_articles.csv')\n",
    "\n",
    "news_sentiment_fg = fs.get_or_create_feature_group(\n",
    "    name='news_sentiment',\n",
    "    description='News sentiment from Polygon',\n",
    "    version=1,\n",
    "    primary_key=['date'],\n",
    "    online_enabled=True,\n",
    ")\n",
    "\n",
    "news_sentiment_fg.insert(news_df)"
   ]
  }
 ],
 "metadata": {
  "kernelspec": {
   "display_name": "base",
   "language": "python",
   "name": "python3"
  },
  "language_info": {
   "codemirror_mode": {
    "name": "ipython",
    "version": 3
   },
   "file_extension": ".py",
   "mimetype": "text/x-python",
   "name": "python",
   "nbconvert_exporter": "python",
   "pygments_lexer": "ipython3",
   "version": "3.11.4"
  },
  "orig_nbformat": 4
 },
 "nbformat": 4,
 "nbformat_minor": 2
}
