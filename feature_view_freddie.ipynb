{
 "cells": [
  {
   "cell_type": "code",
   "execution_count": 16,
   "metadata": {},
   "outputs": [],
   "source": [
    "# Import necessary libraries\n",
    "import pandas as pd               # For data manipulation using DataFrames\n",
    "import numpy as np                # For numerical operations\n",
    "import matplotlib.pyplot as plt   # For data visualization\n",
    "import os                         # For operating system-related tasks\n",
    "import joblib                     # For saving and loading models\n",
    "import hopsworks                  # For getting access to hopsworks\n",
    "\n",
    "\n",
    "\n",
    "# Import specific modules from scikit-learn\n",
    "from sklearn.preprocessing import StandardScaler, OneHotEncoder   # For data preprocessing\n",
    "from sklearn.metrics import accuracy_score                        # For evaluating model accuracy"
   ]
  },
  {
   "cell_type": "code",
   "execution_count": 17,
   "metadata": {},
   "outputs": [],
   "source": [
    "from feature_pipeline import tesla_fg\n",
    "from feature_pipeline import news_sentiment_fg"
   ]
  },
  {
   "cell_type": "code",
   "execution_count": 18,
   "metadata": {},
   "outputs": [
    {
     "data": {
      "text/plain": [
       "True"
      ]
     },
     "execution_count": 18,
     "metadata": {},
     "output_type": "execute_result"
    }
   ],
   "source": [
    "from dotenv import load_dotenv\n",
    "import os\n",
    "\n",
    "load_dotenv()"
   ]
  },
  {
   "cell_type": "code",
   "execution_count": 19,
   "metadata": {},
   "outputs": [
    {
     "name": "stdout",
     "output_type": "stream",
     "text": [
      "Connection closed.\n",
      "Connected. Call `.close()` to terminate connection gracefully.\n",
      "\n",
      "Logged in to project, explore it here https://c.app.hopsworks.ai:443/p/549016\n",
      "Connected. Call `.close()` to terminate connection gracefully.\n"
     ]
    }
   ],
   "source": [
    "api_key = os.environ.get('hopsworks_api')\n",
    "project = hopsworks.login(api_key_value=api_key)\n",
    "fs = project.get_feature_store()"
   ]
  },
  {
   "cell_type": "code",
   "execution_count": 22,
   "metadata": {},
   "outputs": [],
   "source": [
    "def create_stocks_feature_view(fs, version):\n",
    "\n",
    "    # Loading in the feature groups\n",
    "    tesla_fg = fs.get_feature_group('tesla_stock', version=1)\n",
    "    news_sentiment_fg = fs.get_feature_group('news_sentiment_updated', version=1)\n",
    "\n",
    "    # Define the query\n",
    "    ds_query = tesla_fg.select(['date', 'open', 'ticker'])\\\n",
    "        .join(news_sentiment_fg.select(['date', 'sentiment']))\n",
    "\n",
    "    # Create the feature view\n",
    "    feature_view = fs.create_feature_view(\n",
    "        name='tesla_stocks_fv',\n",
    "        query=ds_query,\n",
    "        labels=['ticker']\n",
    "    )\n",
    "\n",
    "    return feature_view, tesla_fg"
   ]
  },
  {
   "cell_type": "code",
   "execution_count": 23,
   "metadata": {},
   "outputs": [
    {
     "name": "stdout",
     "output_type": "stream",
     "text": [
      "Feature view created successfully, explore it at \n",
      "https://c.app.hopsworks.ai:443/p/549016/fs/544838/fv/tesla_stocks_fv/version/1\n"
     ]
    }
   ],
   "source": [
    "try:\n",
    "    feature_view = fs.get_feature_view(\"tesla_stocks_fv\", version=1)\n",
    "    tesla_fg = fs.get_feature_group('tesla_stock', version=1)\n",
    "except:\n",
    "    feature_view, tesla_fg = create_stocks_feature_view(fs, 1)"
   ]
  },
  {
   "cell_type": "code",
   "execution_count": null,
   "metadata": {},
   "outputs": [],
   "source": [
    "#def create_stocks_feature_view(fs, version):\n",
    "\n",
    "    #Loading in the feature groups\n",
    "#    tesla_fg = fs.get_feature_group('tesla_stock', version = 3)\n",
    "#    news_sentiment_fg = fs.get_feature_group('news_sentiment_updated', version = 2)\n",
    "\n",
    "#    ds_query = tesla_fg.select(['date','open', 'ticker'])\\\n",
    "#        .join(news_sentiment_fg.select_except(['ticker','time', 'amp_url', 'image_url']))\n",
    "    \n",
    "#    return (fs.create_tesla_feature_view(\n",
    "#        name = 'tsla_stocks_fv',\n",
    "#        query = ds_query,\n",
    "#        labels=['ticker']\n",
    "#    ), tesla_fg)"
   ]
  },
  {
   "cell_type": "code",
   "execution_count": null,
   "metadata": {},
   "outputs": [],
   "source": [
    "#try:\n",
    "#    feature_view = fs.get_feature_view(\"tsla_stocks_fv\", version=1)\n",
    "#    tesla_fg = fs.get_feature_group('tesla_stock', version=3)\n",
    "#except:\n",
    "#    feature_view, tesla_fg = create_stocks_feature_view(fs, 1)"
   ]
  }
 ],
 "metadata": {
  "kernelspec": {
   "display_name": "Python 3",
   "language": "python",
   "name": "python3"
  },
  "language_info": {
   "codemirror_mode": {
    "name": "ipython",
    "version": 3
   },
   "file_extension": ".py",
   "mimetype": "text/x-python",
   "name": "python",
   "nbconvert_exporter": "python",
   "pygments_lexer": "ipython3",
   "version": "3.11.4"
  }
 },
 "nbformat": 4,
 "nbformat_minor": 2
}
