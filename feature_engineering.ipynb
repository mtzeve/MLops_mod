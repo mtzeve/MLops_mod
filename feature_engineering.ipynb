{
 "cells": [
  {
   "cell_type": "code",
   "execution_count": 1,
   "metadata": {},
   "outputs": [],
   "source": [
    "import requests\n",
    "import pandas as pd\n",
    "import json\n",
    "import datetime\n",
    "import numpy as np\n",
    "from datetime import timedelta "
   ]
  },
  {
   "cell_type": "code",
   "execution_count": 3,
   "metadata": {},
   "outputs": [],
   "source": [
    "def getNews(api_key,endpoint,ticker,from_date,to_date,num=1000):\n",
    "    # Set the parameters for the request\n",
    "    params = {\n",
    "        \"api_token\": api_key,\n",
    "        \"s\": ticker,\n",
    "        \"from\": from_date, \n",
    "        \"to\": to_date,\n",
    "        \"limit\": num,\n",
    "    }\n",
    "    \n",
    "    # Make the request to the API\n",
    "    response = requests.get(endpoint, params=params)\n",
    "    \n",
    "    # Print the response from the API\n",
    "    #print(response.json())\n",
    "\n",
    "    #Return a Pandas dataframe from the response\n",
    "    return pd.DataFrame(response.json())"
   ]
  },
  {
   "cell_type": "code",
   "execution_count": null,
   "metadata": {},
   "outputs": [],
   "source": []
  }
 ],
 "metadata": {
  "kernelspec": {
   "display_name": "base",
   "language": "python",
   "name": "python3"
  },
  "language_info": {
   "codemirror_mode": {
    "name": "ipython",
    "version": 3
   },
   "file_extension": ".py",
   "mimetype": "text/x-python",
   "name": "python",
   "nbconvert_exporter": "python",
   "pygments_lexer": "ipython3",
   "version": "3.11.9"
  },
  "orig_nbformat": 4
 },
 "nbformat": 4,
 "nbformat_minor": 2
}
