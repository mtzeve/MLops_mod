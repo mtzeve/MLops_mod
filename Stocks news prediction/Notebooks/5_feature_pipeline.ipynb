{
 "cells": [
  {
   "cell_type": "code",
   "execution_count": 1,
   "metadata": {},
   "outputs": [
    {
     "name": "stdout",
     "output_type": "stream",
     "text": [
      "Connected. Call `.close()` to terminate connection gracefully.\n",
      "\n",
      "Logged in to project, explore it here https://c.app.hopsworks.ai:443/p/693399\n",
      "Connected. Call `.close()` to terminate connection gracefully.\n"
     ]
    }
   ],
   "source": [
    "# Import necessary libraries\n",
    "import pandas as pd               # For data manipulation using DataFrames\n",
    "import numpy as np                # For numerical operations\n",
    "import matplotlib.pyplot as plt   # For data visualization\n",
    "import os                         # For operating system-related tasks\n",
    "import joblib                     # For saving and loading models\n",
    "import hopsworks                  # For getting access to hopsworks\n",
    "import re\n",
    "\n",
    "# Import specific modules from scikit-learn\n",
    "from sklearn.preprocessing import StandardScaler, OneHotEncoder   # For data preprocessing\n",
    "from sklearn.metrics import accuracy_score                        # For evaluating model accuracy\n",
    "\n",
    "from dotenv import load_dotenv\n",
    "import os\n",
    "load_dotenv()\n",
    "\n",
    "#Connecting to hopsworks\n",
    "api_key = os.environ.get('hopsworks_api')\n",
    "project = hopsworks.login(api_key_value=api_key)\n",
    "fs = project.get_feature_store()"
   ]
  },
  {
   "cell_type": "code",
   "execution_count": 2,
   "metadata": {},
   "outputs": [
    {
     "name": "stdout",
     "output_type": "stream",
     "text": [
      "         date  1. open  2. high  3. low  4. close   5. volume ticker\n",
      "0  2024-05-08   171.59   176.06  170.15    174.72  79969488.0   TSLA\n",
      "1  2024-05-07   182.40   183.26  177.40    177.81  75045854.0   TSLA\n",
      "2  2024-05-06   183.80   187.56  182.20    184.76  84390253.0   TSLA\n",
      "3  2024-05-03   182.10   184.78  178.42    181.19  75491539.0   TSLA\n",
      "4  2024-05-02   182.86   184.60  176.02    180.01  89148041.0   TSLA\n"
     ]
    }
   ],
   "source": [
    "# Load and display the data from CSV to confirm\n",
    "tsla_df = pd.read_csv('TSLA_stock_price.csv')\n",
    "print(tsla_df.head())    "
   ]
  },
  {
   "cell_type": "code",
   "execution_count": 3,
   "metadata": {},
   "outputs": [],
   "source": [
    "#Defining a function to clean the column names\n",
    "def clean_column_name(name):\n",
    "    # Remove all non-letter characters\n",
    "    cleaned_name = re.sub(r'[^a-zA-Z]', '', name)\n",
    "    return cleaned_name"
   ]
  },
  {
   "cell_type": "code",
   "execution_count": 4,
   "metadata": {},
   "outputs": [
    {
     "data": {
      "text/html": [
       "<div>\n",
       "<style scoped>\n",
       "    .dataframe tbody tr th:only-of-type {\n",
       "        vertical-align: middle;\n",
       "    }\n",
       "\n",
       "    .dataframe tbody tr th {\n",
       "        vertical-align: top;\n",
       "    }\n",
       "\n",
       "    .dataframe thead th {\n",
       "        text-align: right;\n",
       "    }\n",
       "</style>\n",
       "<table border=\"1\" class=\"dataframe\">\n",
       "  <thead>\n",
       "    <tr style=\"text-align: right;\">\n",
       "      <th></th>\n",
       "      <th>date</th>\n",
       "      <th>1. open</th>\n",
       "      <th>2. high</th>\n",
       "      <th>3. low</th>\n",
       "      <th>4. close</th>\n",
       "      <th>5. volume</th>\n",
       "      <th>ticker</th>\n",
       "    </tr>\n",
       "  </thead>\n",
       "  <tbody>\n",
       "    <tr>\n",
       "      <th>0</th>\n",
       "      <td>2024-05-08</td>\n",
       "      <td>171.59</td>\n",
       "      <td>176.0600</td>\n",
       "      <td>170.15</td>\n",
       "      <td>174.72</td>\n",
       "      <td>79969488.0</td>\n",
       "      <td>TSLA</td>\n",
       "    </tr>\n",
       "    <tr>\n",
       "      <th>1</th>\n",
       "      <td>2024-05-07</td>\n",
       "      <td>182.40</td>\n",
       "      <td>183.2600</td>\n",
       "      <td>177.40</td>\n",
       "      <td>177.81</td>\n",
       "      <td>75045854.0</td>\n",
       "      <td>TSLA</td>\n",
       "    </tr>\n",
       "    <tr>\n",
       "      <th>2</th>\n",
       "      <td>2024-05-06</td>\n",
       "      <td>183.80</td>\n",
       "      <td>187.5600</td>\n",
       "      <td>182.20</td>\n",
       "      <td>184.76</td>\n",
       "      <td>84390253.0</td>\n",
       "      <td>TSLA</td>\n",
       "    </tr>\n",
       "    <tr>\n",
       "      <th>3</th>\n",
       "      <td>2024-05-03</td>\n",
       "      <td>182.10</td>\n",
       "      <td>184.7800</td>\n",
       "      <td>178.42</td>\n",
       "      <td>181.19</td>\n",
       "      <td>75491539.0</td>\n",
       "      <td>TSLA</td>\n",
       "    </tr>\n",
       "    <tr>\n",
       "      <th>4</th>\n",
       "      <td>2024-05-02</td>\n",
       "      <td>182.86</td>\n",
       "      <td>184.6000</td>\n",
       "      <td>176.02</td>\n",
       "      <td>180.01</td>\n",
       "      <td>89148041.0</td>\n",
       "      <td>TSLA</td>\n",
       "    </tr>\n",
       "    <tr>\n",
       "      <th>...</th>\n",
       "      <td>...</td>\n",
       "      <td>...</td>\n",
       "      <td>...</td>\n",
       "      <td>...</td>\n",
       "      <td>...</td>\n",
       "      <td>...</td>\n",
       "      <td>...</td>\n",
       "    </tr>\n",
       "    <tr>\n",
       "      <th>3484</th>\n",
       "      <td>2010-07-06</td>\n",
       "      <td>20.00</td>\n",
       "      <td>20.0000</td>\n",
       "      <td>15.83</td>\n",
       "      <td>16.11</td>\n",
       "      <td>6866900.0</td>\n",
       "      <td>TSLA</td>\n",
       "    </tr>\n",
       "    <tr>\n",
       "      <th>3485</th>\n",
       "      <td>2010-07-02</td>\n",
       "      <td>23.00</td>\n",
       "      <td>23.1000</td>\n",
       "      <td>18.71</td>\n",
       "      <td>19.20</td>\n",
       "      <td>5139800.0</td>\n",
       "      <td>TSLA</td>\n",
       "    </tr>\n",
       "    <tr>\n",
       "      <th>3486</th>\n",
       "      <td>2010-07-01</td>\n",
       "      <td>25.00</td>\n",
       "      <td>25.9200</td>\n",
       "      <td>20.27</td>\n",
       "      <td>21.96</td>\n",
       "      <td>8218800.0</td>\n",
       "      <td>TSLA</td>\n",
       "    </tr>\n",
       "    <tr>\n",
       "      <th>3487</th>\n",
       "      <td>2010-06-30</td>\n",
       "      <td>25.79</td>\n",
       "      <td>30.4192</td>\n",
       "      <td>23.30</td>\n",
       "      <td>23.83</td>\n",
       "      <td>17187100.0</td>\n",
       "      <td>TSLA</td>\n",
       "    </tr>\n",
       "    <tr>\n",
       "      <th>3488</th>\n",
       "      <td>2010-06-29</td>\n",
       "      <td>19.00</td>\n",
       "      <td>25.0000</td>\n",
       "      <td>17.54</td>\n",
       "      <td>23.89</td>\n",
       "      <td>18766300.0</td>\n",
       "      <td>TSLA</td>\n",
       "    </tr>\n",
       "  </tbody>\n",
       "</table>\n",
       "<p>3489 rows × 7 columns</p>\n",
       "</div>"
      ],
      "text/plain": [
       "            date  1. open   2. high  3. low  4. close   5. volume ticker\n",
       "0     2024-05-08   171.59  176.0600  170.15    174.72  79969488.0   TSLA\n",
       "1     2024-05-07   182.40  183.2600  177.40    177.81  75045854.0   TSLA\n",
       "2     2024-05-06   183.80  187.5600  182.20    184.76  84390253.0   TSLA\n",
       "3     2024-05-03   182.10  184.7800  178.42    181.19  75491539.0   TSLA\n",
       "4     2024-05-02   182.86  184.6000  176.02    180.01  89148041.0   TSLA\n",
       "...          ...      ...       ...     ...       ...         ...    ...\n",
       "3484  2010-07-06    20.00   20.0000   15.83     16.11   6866900.0   TSLA\n",
       "3485  2010-07-02    23.00   23.1000   18.71     19.20   5139800.0   TSLA\n",
       "3486  2010-07-01    25.00   25.9200   20.27     21.96   8218800.0   TSLA\n",
       "3487  2010-06-30    25.79   30.4192   23.30     23.83  17187100.0   TSLA\n",
       "3488  2010-06-29    19.00   25.0000   17.54     23.89  18766300.0   TSLA\n",
       "\n",
       "[3489 rows x 7 columns]"
      ]
     },
     "execution_count": 4,
     "metadata": {},
     "output_type": "execute_result"
    }
   ],
   "source": [
    "tsla_df"
   ]
  },
  {
   "cell_type": "code",
   "execution_count": 5,
   "metadata": {},
   "outputs": [
    {
     "name": "stdout",
     "output_type": "stream",
     "text": [
      "Index(['date', 'open', 'high', 'low', 'close', 'volume', 'ticker'], dtype='object')\n"
     ]
    }
   ],
   "source": [
    "# Cleaning up column names for 'tsla_df'\n",
    "tsla_df.columns = [clean_column_name(col) for col in tsla_df.columns]\n",
    "print(tsla_df.columns)"
   ]
  },
  {
   "cell_type": "code",
   "execution_count": 6,
   "metadata": {},
   "outputs": [],
   "source": [
    "# Converting the \"date\" column to timestamp\n",
    "tsla_df['date'] = pd.to_datetime(tsla_df['date'])"
   ]
  },
  {
   "cell_type": "code",
   "execution_count": 7,
   "metadata": {},
   "outputs": [
    {
     "name": "stdout",
     "output_type": "stream",
     "text": [
      "2024-05-09 13:46:25,296 WARNING: DeprecationWarning: Providing event_time as a single-element list is deprecated and will be dropped in future versions. Provide the feature_name string instead.\n",
      "\n"
     ]
    }
   ],
   "source": [
    "# Defining the stocks feature group\n",
    "tesla_fg = fs.get_or_create_feature_group(\n",
    "    name=\"tesla_stock\",\n",
    "    description=\"Tesla stock dataset from alpha vantage\",\n",
    "    version=3,\n",
    "    primary_key=[\"ticker\"],\n",
    "    event_time=['date'],\n",
    "    online_enabled=False,\n",
    ")"
   ]
  },
  {
   "cell_type": "code",
   "execution_count": 8,
   "metadata": {},
   "outputs": [
    {
     "name": "stdout",
     "output_type": "stream",
     "text": [
      "Feature Group created successfully, explore it at \n",
      "https://c.app.hopsworks.ai:443/p/693399/fs/689222/fg/797023\n"
     ]
    },
    {
     "data": {
      "application/vnd.jupyter.widget-view+json": {
       "model_id": "4ea750e675d14c1b8f6bd5b47dbc70cf",
       "version_major": 2,
       "version_minor": 0
      },
      "text/plain": [
       "Uploading Dataframe: 0.00% |          | Rows 0/3489 | Elapsed Time: 00:00 | Remaining Time: ?"
      ]
     },
     "metadata": {},
     "output_type": "display_data"
    },
    {
     "name": "stdout",
     "output_type": "stream",
     "text": [
      "Launching job: tesla_stock_3_offline_fg_materialization\n",
      "Job started successfully, you can follow the progress at \n",
      "https://c.app.hopsworks.ai/p/693399/jobs/named/tesla_stock_3_offline_fg_materialization/executions\n"
     ]
    },
    {
     "data": {
      "text/plain": [
       "(<hsfs.core.job.Job at 0x1eb9c874450>, None)"
      ]
     },
     "execution_count": 8,
     "metadata": {},
     "output_type": "execute_result"
    }
   ],
   "source": [
    "#Inserting the stock data into the stocks feature group\n",
    "tesla_fg.insert(tsla_df, write_options={\"wait_for_job\" : False})"
   ]
  },
  {
   "cell_type": "code",
   "execution_count": 9,
   "metadata": {},
   "outputs": [],
   "source": [
    "#Collecting news df\n",
    "news_df = pd.read_csv('news_articles_ema.csv')"
   ]
  },
  {
   "cell_type": "code",
   "execution_count": 10,
   "metadata": {},
   "outputs": [],
   "source": [
    "#Dropping exp mean 7 days\n",
    "news_df_updated = news_df.drop(columns=['exp_mean_7_days'])"
   ]
  },
  {
   "cell_type": "code",
   "execution_count": 11,
   "metadata": {},
   "outputs": [],
   "source": [
    "#Updating date to datetime\n",
    "news_df_updated['date'] = pd.to_datetime(news_df_updated['date'])"
   ]
  },
  {
   "cell_type": "code",
   "execution_count": 12,
   "metadata": {},
   "outputs": [
    {
     "name": "stdout",
     "output_type": "stream",
     "text": [
      "2024-05-09 13:55:13,441 WARNING: DeprecationWarning: Providing event_time as a single-element list is deprecated and will be dropped in future versions. Provide the feature_name string instead.\n",
      "\n"
     ]
    }
   ],
   "source": [
    "#Defining the news feature group\n",
    "news_sentiment_fg = fs.get_or_create_feature_group(\n",
    "    name='news_sentiment_updated',\n",
    "    description='News sentiment from Polygon',\n",
    "    version=3,\n",
    "    primary_key=['ticker'],\n",
    "    event_time=['date'],\n",
    "    online_enabled=False,\n",
    ")"
   ]
  },
  {
   "cell_type": "code",
   "execution_count": 13,
   "metadata": {},
   "outputs": [
    {
     "name": "stdout",
     "output_type": "stream",
     "text": [
      "Feature Group created successfully, explore it at \n",
      "https://c.app.hopsworks.ai:443/p/693399/fs/689222/fg/798028\n"
     ]
    },
    {
     "data": {
      "application/vnd.jupyter.widget-view+json": {
       "model_id": "de6777194865498cb560957a57a04bd1",
       "version_major": 2,
       "version_minor": 0
      },
      "text/plain": [
       "Uploading Dataframe: 0.00% |          | Rows 0/75 | Elapsed Time: 00:00 | Remaining Time: ?"
      ]
     },
     "metadata": {},
     "output_type": "display_data"
    },
    {
     "name": "stdout",
     "output_type": "stream",
     "text": [
      "Launching job: news_sentiment_updated_3_offline_fg_materialization\n",
      "Job started successfully, you can follow the progress at \n",
      "https://c.app.hopsworks.ai/p/693399/jobs/named/news_sentiment_updated_3_offline_fg_materialization/executions\n"
     ]
    },
    {
     "data": {
      "text/plain": [
       "(<hsfs.core.job.Job at 0x1eb9c877fd0>, None)"
      ]
     },
     "execution_count": 13,
     "metadata": {},
     "output_type": "execute_result"
    }
   ],
   "source": [
    "#Inserting the news data into the news feature group\n",
    "news_sentiment_fg.insert(news_df_updated)"
   ]
  }
 ],
 "metadata": {
  "kernelspec": {
   "display_name": "base",
   "language": "python",
   "name": "python3"
  },
  "language_info": {
   "codemirror_mode": {
    "name": "ipython",
    "version": 3
   },
   "file_extension": ".py",
   "mimetype": "text/x-python",
   "name": "python",
   "nbconvert_exporter": "python",
   "pygments_lexer": "ipython3",
   "version": "3.11.9"
  },
  "orig_nbformat": 4
 },
 "nbformat": 4,
 "nbformat_minor": 2
}
