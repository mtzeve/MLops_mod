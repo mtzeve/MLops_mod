{
 "cells": [
  {
   "cell_type": "code",
   "execution_count": 1,
   "metadata": {},
   "outputs": [
    {
     "data": {
      "text/plain": [
       "True"
      ]
     },
     "execution_count": 1,
     "metadata": {},
     "output_type": "execute_result"
    }
   ],
   "source": [
    "#Importing necessary libraries\n",
    "from dotenv import load_dotenv\n",
    "import os \n",
    "from alpha_vantage.timeseries import TimeSeries\n",
    "import pandas as pd\n",
    "import hopsworks\n",
    "import re \n",
    "import modal \n",
    "#prepocessing\n",
    "import requests\n",
    "import pandas as pd\n",
    "import json\n",
    "import pandas_market_calendars as mcal\n",
    "import datetime\n",
    "import numpy as np\n",
    "from datetime import datetime, timedelta\n",
    "load_dotenv()"
   ]
  },
  {
   "cell_type": "code",
   "execution_count": 2,
   "metadata": {},
   "outputs": [
    {
     "name": "stdout",
     "output_type": "stream",
     "text": [
      "            1. open   2. high  3. low  4. close   5. volume\n",
      "date                                                       \n",
      "2024-05-13   170.00  175.4000  169.00    171.89  67018903.0\n",
      "2024-05-10   173.05  173.0599  167.75    168.47  72627178.0\n",
      "2024-05-09   175.01  175.6200  171.37    171.97  65950292.0\n",
      "2024-05-08   171.59  176.0600  170.15    174.72  79969488.0\n",
      "2024-05-07   182.40  183.2600  177.40    177.81  75045854.0\n"
     ]
    }
   ],
   "source": [
    "#Connecting to Alpha vantage using API key\n",
    "api_key = os.environ.get('stocks_api') # Replace this with your actual API key\n",
    "ts = TimeSeries(key=api_key, output_format='pandas')\n",
    "\n",
    "# Fetch daily adjusted stock prices; adjust the symbol as needed\n",
    "data, meta_data = ts.get_daily(symbol='TSLA', outputsize='full')\n",
    "\n",
    "print(data.head())"
   ]
  },
  {
   "cell_type": "code",
   "execution_count": 3,
   "metadata": {},
   "outputs": [
    {
     "name": "stdout",
     "output_type": "stream",
     "text": [
      "<class 'pandas.core.frame.DataFrame'>\n",
      "DatetimeIndex: 3492 entries, 2024-05-13 to 2010-06-29\n",
      "Data columns (total 5 columns):\n",
      " #   Column     Non-Null Count  Dtype  \n",
      "---  ------     --------------  -----  \n",
      " 0   1. open    3492 non-null   float64\n",
      " 1   2. high    3492 non-null   float64\n",
      " 2   3. low     3492 non-null   float64\n",
      " 3   4. close   3492 non-null   float64\n",
      " 4   5. volume  3492 non-null   float64\n",
      "dtypes: float64(5)\n",
      "memory usage: 163.7 KB\n"
     ]
    }
   ],
   "source": [
    "#Looking at data info\n",
    "data.info()"
   ]
  },
  {
   "cell_type": "code",
   "execution_count": 4,
   "metadata": {},
   "outputs": [
    {
     "data": {
      "text/plain": [
       "{'1. Information': 'Daily Prices (open, high, low, close) and Volumes',\n",
       " '2. Symbol': 'TSLA',\n",
       " '3. Last Refreshed': '2024-05-13',\n",
       " '4. Output Size': 'Full size',\n",
       " '5. Time Zone': 'US/Eastern'}"
      ]
     },
     "execution_count": 4,
     "metadata": {},
     "output_type": "execute_result"
    }
   ],
   "source": [
    "#Looking at the meta data\n",
    "meta_data"
   ]
  },
  {
   "cell_type": "code",
   "execution_count": 5,
   "metadata": {},
   "outputs": [],
   "source": [
    "#Stock market:\n",
    "def today_is_a_business_day(today):\n",
    "    # Get the NYSE calendar\n",
    "    cal = mcal.get_calendar('NYSE')\n",
    "    schedule = cal.schedule(start_date=today, end_date=today) # Get the NYSE calendar's open and close times for the specified period\n",
    "    try:\n",
    "        isBusinessDay = schedule.market_open.dt.strftime('%Y-%m-%d')\n",
    "        return True\n",
    "    except:\n",
    "        print('Today {} is not a business day'.format(today))\n",
    "        return False"
   ]
  },
  {
   "cell_type": "code",
   "execution_count": 6,
   "metadata": {},
   "outputs": [],
   "source": [
    "#Defining a function to find the next business day\n",
    "def next_business_day(today):\n",
    "    \n",
    "    # Real tomorrow\n",
    "    tomorrow = (today + timedelta(days=1)).strftime(\"%Y-%m-%d\")\n",
    "    \n",
    "    # Get the NYSE calendar\n",
    "    cal = mcal.get_calendar('NYSE')\n",
    "\n",
    "    found_next_business_day = False \n",
    "    while not found_next_business_day:\n",
    "        schedule = cal.schedule(start_date=tomorrow, end_date=tomorrow) # Get the NYSE calendar's open and close times for the specified period\n",
    "        try:\n",
    "            isBusinessDay = schedule.market_open.dt.strftime('%Y-%m-%d') # Only need a list of dates when it's open (not open and close times)\n",
    "            found_next_business_day = True\n",
    "        except:\n",
    "            print('The date {} is not a business day'.format(tomorrow))\n",
    "            tomorrow = (datetime.datetime.strptime(tomorrow,\"%Y-%m-%d\") + timedelta(days=1)).strftime(\"%Y-%m-%d\")\n",
    "            \n",
    "    return isBusinessDay.to_numpy()[0]"
   ]
  },
  {
   "cell_type": "code",
   "execution_count": 7,
   "metadata": {},
   "outputs": [],
   "source": [
    "#Defining a function to extract business day\n",
    "def extract_business_day(start_date,end_date):\n",
    "    \"\"\"\n",
    "    Given a start_date and end_date.\n",
    "    \n",
    "    `Returns`:\n",
    "    \n",
    "    isBusinessDay: list of str (with all dates being business days)\n",
    "    is_open: boolean list\n",
    "        e.g is_open = [1,0,...,1] means that start_date = open, day after start_date = closed, and end_date = open\n",
    "    \"\"\"\n",
    "    \n",
    "    # Saving for later\n",
    "    end_date_save = end_date\n",
    "    \n",
    "    # Getting the NYSE calendar\n",
    "    cal = mcal.get_calendar('NYSE')\n",
    "\n",
    "    # Getting the NYSE calendar's open and close times for the specified period\n",
    "    schedule = cal.schedule(start_date=start_date, end_date=end_date)\n",
    "    \n",
    "    # Only need a list of dates when it's open (not open and close times)\n",
    "    isBusinessDay = np.array(schedule.market_open.dt.strftime('%Y-%m-%d')) \n",
    "    \n",
    "    # Going over all days: \n",
    "    delta = datetime.timedelta(days=1)\n",
    "    start_date = datetime.datetime.strptime(start_date,\"%Y-%m-%d\") #datetime.date(2015, 7, 16)\n",
    "    end_date = datetime.datetime.strptime(end_date,\"%Y-%m-%d\") #datetime.date(2023, 1, 4)\n",
    "    \n",
    "    # Extracting days from the timedelta object\n",
    "    num_days = (end_date - start_date).days + 1\n",
    "    \n",
    "    # Creating a boolean array for days being open (1) and closed (0) \n",
    "    is_open = np.zeros(num_days)\n",
    "    \n",
    "    # iterate over range of dates\n",
    "    current_BusinessDay = isBusinessDay[0]\n",
    "    count_dates = 0\n",
    "    next_BusinessDay = 0\n",
    "    \n",
    "    while (start_date <= end_date):\n",
    "    \n",
    "        if start_date.strftime('%Y-%m-%d') == current_BusinessDay:\n",
    "            is_open[count_dates] = True\n",
    "\n",
    "            if current_BusinessDay == end_date_save or current_BusinessDay==isBusinessDay[-1]:\n",
    "                break\n",
    "            else:\n",
    "                next_BusinessDay += 1\n",
    "                current_BusinessDay = isBusinessDay[next_BusinessDay]\n",
    "        else:\n",
    "            is_open[count_dates] = False\n",
    "\n",
    "        count_dates += 1   \n",
    "        start_date += delta\n",
    "        \n",
    "    print(np.shape(is_open))\n",
    "        \n",
    "    return isBusinessDay, is_open"
   ]
  },
  {
   "cell_type": "code",
   "execution_count": 8,
   "metadata": {},
   "outputs": [],
   "source": [
    "#Defining a function to clean the column names\n",
    "def clean_column_name(name):\n",
    "    # Remove all non-letter characters\n",
    "    cleaned_name = re.sub(r'[^a-zA-Z]', '', name)\n",
    "    return cleaned_name"
   ]
  },
  {
   "cell_type": "code",
   "execution_count": 9,
   "metadata": {},
   "outputs": [],
   "source": [
    "data.columns = [clean_column_name(col) for col in data.columns]"
   ]
  },
  {
   "cell_type": "code",
   "execution_count": 10,
   "metadata": {},
   "outputs": [
    {
     "data": {
      "text/html": [
       "<div>\n",
       "<style scoped>\n",
       "    .dataframe tbody tr th:only-of-type {\n",
       "        vertical-align: middle;\n",
       "    }\n",
       "\n",
       "    .dataframe tbody tr th {\n",
       "        vertical-align: top;\n",
       "    }\n",
       "\n",
       "    .dataframe thead th {\n",
       "        text-align: right;\n",
       "    }\n",
       "</style>\n",
       "<table border=\"1\" class=\"dataframe\">\n",
       "  <thead>\n",
       "    <tr style=\"text-align: right;\">\n",
       "      <th></th>\n",
       "      <th>open</th>\n",
       "      <th>high</th>\n",
       "      <th>low</th>\n",
       "      <th>close</th>\n",
       "      <th>volume</th>\n",
       "    </tr>\n",
       "    <tr>\n",
       "      <th>date</th>\n",
       "      <th></th>\n",
       "      <th></th>\n",
       "      <th></th>\n",
       "      <th></th>\n",
       "      <th></th>\n",
       "    </tr>\n",
       "  </thead>\n",
       "  <tbody>\n",
       "    <tr>\n",
       "      <th>2024-05-13</th>\n",
       "      <td>170.00</td>\n",
       "      <td>175.4000</td>\n",
       "      <td>169.00</td>\n",
       "      <td>171.89</td>\n",
       "      <td>67018903.0</td>\n",
       "    </tr>\n",
       "    <tr>\n",
       "      <th>2024-05-10</th>\n",
       "      <td>173.05</td>\n",
       "      <td>173.0599</td>\n",
       "      <td>167.75</td>\n",
       "      <td>168.47</td>\n",
       "      <td>72627178.0</td>\n",
       "    </tr>\n",
       "    <tr>\n",
       "      <th>2024-05-09</th>\n",
       "      <td>175.01</td>\n",
       "      <td>175.6200</td>\n",
       "      <td>171.37</td>\n",
       "      <td>171.97</td>\n",
       "      <td>65950292.0</td>\n",
       "    </tr>\n",
       "    <tr>\n",
       "      <th>2024-05-08</th>\n",
       "      <td>171.59</td>\n",
       "      <td>176.0600</td>\n",
       "      <td>170.15</td>\n",
       "      <td>174.72</td>\n",
       "      <td>79969488.0</td>\n",
       "    </tr>\n",
       "    <tr>\n",
       "      <th>2024-05-07</th>\n",
       "      <td>182.40</td>\n",
       "      <td>183.2600</td>\n",
       "      <td>177.40</td>\n",
       "      <td>177.81</td>\n",
       "      <td>75045854.0</td>\n",
       "    </tr>\n",
       "  </tbody>\n",
       "</table>\n",
       "</div>"
      ],
      "text/plain": [
       "              open      high     low   close      volume\n",
       "date                                                    \n",
       "2024-05-13  170.00  175.4000  169.00  171.89  67018903.0\n",
       "2024-05-10  173.05  173.0599  167.75  168.47  72627178.0\n",
       "2024-05-09  175.01  175.6200  171.37  171.97  65950292.0\n",
       "2024-05-08  171.59  176.0600  170.15  174.72  79969488.0\n",
       "2024-05-07  182.40  183.2600  177.40  177.81  75045854.0"
      ]
     },
     "execution_count": 10,
     "metadata": {},
     "output_type": "execute_result"
    }
   ],
   "source": [
    "data.head()"
   ]
  },
  {
   "cell_type": "code",
   "execution_count": 11,
   "metadata": {},
   "outputs": [],
   "source": [
    "data.reset_index(inplace=True)\n"
   ]
  },
  {
   "cell_type": "code",
   "execution_count": 12,
   "metadata": {},
   "outputs": [
    {
     "data": {
      "text/html": [
       "<div>\n",
       "<style scoped>\n",
       "    .dataframe tbody tr th:only-of-type {\n",
       "        vertical-align: middle;\n",
       "    }\n",
       "\n",
       "    .dataframe tbody tr th {\n",
       "        vertical-align: top;\n",
       "    }\n",
       "\n",
       "    .dataframe thead th {\n",
       "        text-align: right;\n",
       "    }\n",
       "</style>\n",
       "<table border=\"1\" class=\"dataframe\">\n",
       "  <thead>\n",
       "    <tr style=\"text-align: right;\">\n",
       "      <th></th>\n",
       "      <th>date</th>\n",
       "      <th>open</th>\n",
       "      <th>high</th>\n",
       "      <th>low</th>\n",
       "      <th>close</th>\n",
       "      <th>volume</th>\n",
       "    </tr>\n",
       "  </thead>\n",
       "  <tbody>\n",
       "    <tr>\n",
       "      <th>0</th>\n",
       "      <td>2024-05-13</td>\n",
       "      <td>170.00</td>\n",
       "      <td>175.4000</td>\n",
       "      <td>169.00</td>\n",
       "      <td>171.89</td>\n",
       "      <td>67018903.0</td>\n",
       "    </tr>\n",
       "    <tr>\n",
       "      <th>1</th>\n",
       "      <td>2024-05-10</td>\n",
       "      <td>173.05</td>\n",
       "      <td>173.0599</td>\n",
       "      <td>167.75</td>\n",
       "      <td>168.47</td>\n",
       "      <td>72627178.0</td>\n",
       "    </tr>\n",
       "    <tr>\n",
       "      <th>2</th>\n",
       "      <td>2024-05-09</td>\n",
       "      <td>175.01</td>\n",
       "      <td>175.6200</td>\n",
       "      <td>171.37</td>\n",
       "      <td>171.97</td>\n",
       "      <td>65950292.0</td>\n",
       "    </tr>\n",
       "    <tr>\n",
       "      <th>3</th>\n",
       "      <td>2024-05-08</td>\n",
       "      <td>171.59</td>\n",
       "      <td>176.0600</td>\n",
       "      <td>170.15</td>\n",
       "      <td>174.72</td>\n",
       "      <td>79969488.0</td>\n",
       "    </tr>\n",
       "    <tr>\n",
       "      <th>4</th>\n",
       "      <td>2024-05-07</td>\n",
       "      <td>182.40</td>\n",
       "      <td>183.2600</td>\n",
       "      <td>177.40</td>\n",
       "      <td>177.81</td>\n",
       "      <td>75045854.0</td>\n",
       "    </tr>\n",
       "  </tbody>\n",
       "</table>\n",
       "</div>"
      ],
      "text/plain": [
       "        date    open      high     low   close      volume\n",
       "0 2024-05-13  170.00  175.4000  169.00  171.89  67018903.0\n",
       "1 2024-05-10  173.05  173.0599  167.75  168.47  72627178.0\n",
       "2 2024-05-09  175.01  175.6200  171.37  171.97  65950292.0\n",
       "3 2024-05-08  171.59  176.0600  170.15  174.72  79969488.0\n",
       "4 2024-05-07  182.40  183.2600  177.40  177.81  75045854.0"
      ]
     },
     "execution_count": 12,
     "metadata": {},
     "output_type": "execute_result"
    }
   ],
   "source": [
    "data.head()"
   ]
  },
  {
   "cell_type": "code",
   "execution_count": 13,
   "metadata": {},
   "outputs": [],
   "source": [
    "# Define the date range we're interested in\n",
    "yesterday =datetime.now()-timedelta(days=1)\n",
    "two_years_back = yesterday - timedelta(days=684)"
   ]
  },
  {
   "cell_type": "code",
   "execution_count": 14,
   "metadata": {},
   "outputs": [],
   "source": [
    "# Filtering the DataFrame to this range\n",
    "filtered_df = data[(data['date'] >= two_years_back) & (data['date'] <= yesterday)]"
   ]
  },
  {
   "cell_type": "code",
   "execution_count": 15,
   "metadata": {},
   "outputs": [
    {
     "data": {
      "text/html": [
       "<div>\n",
       "<style scoped>\n",
       "    .dataframe tbody tr th:only-of-type {\n",
       "        vertical-align: middle;\n",
       "    }\n",
       "\n",
       "    .dataframe tbody tr th {\n",
       "        vertical-align: top;\n",
       "    }\n",
       "\n",
       "    .dataframe thead th {\n",
       "        text-align: right;\n",
       "    }\n",
       "</style>\n",
       "<table border=\"1\" class=\"dataframe\">\n",
       "  <thead>\n",
       "    <tr style=\"text-align: right;\">\n",
       "      <th></th>\n",
       "      <th>date</th>\n",
       "      <th>open</th>\n",
       "      <th>high</th>\n",
       "      <th>low</th>\n",
       "      <th>close</th>\n",
       "      <th>volume</th>\n",
       "    </tr>\n",
       "  </thead>\n",
       "  <tbody>\n",
       "    <tr>\n",
       "      <th>0</th>\n",
       "      <td>2024-05-13</td>\n",
       "      <td>170.00</td>\n",
       "      <td>175.4000</td>\n",
       "      <td>169.00</td>\n",
       "      <td>171.89</td>\n",
       "      <td>67018903.0</td>\n",
       "    </tr>\n",
       "    <tr>\n",
       "      <th>1</th>\n",
       "      <td>2024-05-10</td>\n",
       "      <td>173.05</td>\n",
       "      <td>173.0599</td>\n",
       "      <td>167.75</td>\n",
       "      <td>168.47</td>\n",
       "      <td>72627178.0</td>\n",
       "    </tr>\n",
       "    <tr>\n",
       "      <th>2</th>\n",
       "      <td>2024-05-09</td>\n",
       "      <td>175.01</td>\n",
       "      <td>175.6200</td>\n",
       "      <td>171.37</td>\n",
       "      <td>171.97</td>\n",
       "      <td>65950292.0</td>\n",
       "    </tr>\n",
       "    <tr>\n",
       "      <th>3</th>\n",
       "      <td>2024-05-08</td>\n",
       "      <td>171.59</td>\n",
       "      <td>176.0600</td>\n",
       "      <td>170.15</td>\n",
       "      <td>174.72</td>\n",
       "      <td>79969488.0</td>\n",
       "    </tr>\n",
       "    <tr>\n",
       "      <th>4</th>\n",
       "      <td>2024-05-07</td>\n",
       "      <td>182.40</td>\n",
       "      <td>183.2600</td>\n",
       "      <td>177.40</td>\n",
       "      <td>177.81</td>\n",
       "      <td>75045854.0</td>\n",
       "    </tr>\n",
       "  </tbody>\n",
       "</table>\n",
       "</div>"
      ],
      "text/plain": [
       "        date    open      high     low   close      volume\n",
       "0 2024-05-13  170.00  175.4000  169.00  171.89  67018903.0\n",
       "1 2024-05-10  173.05  173.0599  167.75  168.47  72627178.0\n",
       "2 2024-05-09  175.01  175.6200  171.37  171.97  65950292.0\n",
       "3 2024-05-08  171.59  176.0600  170.15  174.72  79969488.0\n",
       "4 2024-05-07  182.40  183.2600  177.40  177.81  75045854.0"
      ]
     },
     "execution_count": 15,
     "metadata": {},
     "output_type": "execute_result"
    }
   ],
   "source": [
    "filtered_df.head()"
   ]
  },
  {
   "cell_type": "code",
   "execution_count": 16,
   "metadata": {},
   "outputs": [
    {
     "name": "stdout",
     "output_type": "stream",
     "text": [
      "2022-06-30 00:00:00\n",
      "2024-05-13 00:00:00\n"
     ]
    }
   ],
   "source": [
    "print(filtered_df['date'].min())\n",
    "print(filtered_df['date'].max())"
   ]
  },
  {
   "cell_type": "code",
   "execution_count": 17,
   "metadata": {},
   "outputs": [
    {
     "data": {
      "text/plain": [
       "(470, 6)"
      ]
     },
     "execution_count": 17,
     "metadata": {},
     "output_type": "execute_result"
    }
   ],
   "source": [
    "filtered_df.shape"
   ]
  }
 ],
 "metadata": {
  "kernelspec": {
   "display_name": "base",
   "language": "python",
   "name": "python3"
  },
  "language_info": {
   "codemirror_mode": {
    "name": "ipython",
    "version": 3
   },
   "file_extension": ".py",
   "mimetype": "text/x-python",
   "name": "python",
   "nbconvert_exporter": "python",
   "pygments_lexer": "ipython3",
   "version": "3.11.9"
  },
  "orig_nbformat": 4
 },
 "nbformat": 4,
 "nbformat_minor": 2
}
