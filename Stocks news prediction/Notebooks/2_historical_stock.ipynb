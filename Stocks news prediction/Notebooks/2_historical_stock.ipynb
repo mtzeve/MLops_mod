{
 "cells": [
  {
   "cell_type": "code",
   "execution_count": 3,
   "metadata": {},
   "outputs": [
    {
     "data": {
      "text/plain": [
       "True"
      ]
     },
     "execution_count": 3,
     "metadata": {},
     "output_type": "execute_result"
    }
   ],
   "source": [
    "#Importing necessary librabries\n",
    "from dotenv import load_dotenv\n",
    "import os \n",
    "from alpha_vantage.timeseries import TimeSeries\n",
    "import pandas as pd\n",
    "import hopsworks\n",
    "import re \n",
    "import modal \n",
    "#prepocessing\n",
    "import requests\n",
    "import pandas as pd\n",
    "import json\n",
    "#import pandas_market_calendars as mcal\n",
    "import datetime\n",
    "import numpy as np\n",
    "from datetime import timedelta\n",
    "load_dotenv()   #Making the .env file work"
   ]
  },
  {
   "cell_type": "code",
   "execution_count": null,
   "metadata": {},
   "outputs": [
    {
     "name": "stdout",
     "output_type": "stream",
     "text": [
      "            1. open  2. high    3. low  4. close    5. volume ticker\n",
      "date                                                                \n",
      "2024-05-03   182.10   184.78  178.4200    181.19   75491539.0   TSLA\n",
      "2024-05-02   182.86   184.60  176.0200    180.01   89148041.0   TSLA\n",
      "2024-05-01   182.00   185.86  179.0100    179.99   92829719.0   TSLA\n",
      "2024-04-30   186.98   190.95  182.8401    183.28  127031787.0   TSLA\n",
      "2024-04-29   188.42   198.87  184.5400    194.05  243869678.0   TSLA\n"
     ]
    }
   ],
   "source": [
    "#Setting up API key to being able to fetch stocks from Alpha Vantage\n",
    "\n",
    "api_key = os.environ.get('stocks_api') \n",
    "ts = TimeSeries(key=api_key, output_format='pandas')\n",
    "\n",
    "#Defining a function to fetch stocks\n",
    "\n",
    "def fetch_stock_prices(symbol):\n",
    "    # Fetch daily adjusted stock prices; adjust the symbol as needed\n",
    "    data, meta_data = ts.get_daily(symbol=symbol, outputsize='full')\n",
    "    \n",
    "    # Add a new column named 'ticker' and fill it with the ticker name\n",
    "    data['ticker'] = symbol\n",
    "    \n",
    "    return data\n",
    "\n",
    "#Usage\n",
    "symbol = 'TSLA'\n",
    "stock_data = fetch_stock_prices(symbol)\n",
    "print(stock_data.head())"
   ]
  },
  {
   "cell_type": "code",
   "execution_count": null,
   "metadata": {},
   "outputs": [
    {
     "name": "stdout",
     "output_type": "stream",
     "text": [
      "Data saved to TSLA_stock_price.csv\n"
     ]
    }
   ],
   "source": [
    "# Defining the file path and name\n",
    "file_path = 'TSLA_stock_price.csv'  \n",
    "\n",
    "# Saving the DataFrame to CSV\n",
    "stock_data.to_csv(file_path)\n",
    "\n",
    "print(f\"Data saved to {file_path}\")"
   ]
  }
 ],
 "metadata": {
  "kernelspec": {
   "display_name": "base",
   "language": "python",
   "name": "python3"
  },
  "language_info": {
   "codemirror_mode": {
    "name": "ipython",
    "version": 3
   },
   "file_extension": ".py",
   "mimetype": "text/x-python",
   "name": "python",
   "nbconvert_exporter": "python",
   "pygments_lexer": "ipython3",
   "version": "3.11.9"
  },
  "orig_nbformat": 4
 },
 "nbformat": 4,
 "nbformat_minor": 2
}
