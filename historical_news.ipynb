{
 "cells": [
  {
   "cell_type": "code",
   "execution_count": 1,
   "metadata": {},
   "outputs": [],
   "source": [
    "from dotenv import load_dotenv\n",
    "from datetime import datetime, timedelta\n",
    "import requests\n",
    "import os\n",
    "import time\n",
    "import pandas as pd \n",
    "from news_preprocessing import *"
   ]
  },
  {
   "cell_type": "code",
   "execution_count": 2,
   "metadata": {},
   "outputs": [
    {
     "name": "stdout",
     "output_type": "stream",
     "text": [
      "Fetched 50 articles from 2022-04-01 to 2022-05-21\n",
      "Fetched 50 articles from 2022-05-22 to 2022-07-11\n",
      "Fetched 50 articles from 2022-07-12 to 2022-08-31\n",
      "Fetched 50 articles from 2022-09-01 to 2022-10-21\n",
      "Fetched 50 articles from 2022-10-22 to 2022-12-11\n",
      "Fetched 50 articles from 2022-12-12 to 2023-01-31\n",
      "Fetched 50 articles from 2023-02-01 to 2023-03-23\n",
      "Fetched 50 articles from 2023-03-24 to 2023-05-13\n",
      "Fetched 50 articles from 2023-05-14 to 2023-07-03\n",
      "Rate limit reached. Waiting to retry...\n",
      "Fetched 50 articles from 2023-07-04 to 2023-08-23\n",
      "Fetched 50 articles from 2023-08-24 to 2023-10-13\n",
      "Fetched 50 articles from 2023-10-14 to 2023-12-03\n",
      "Fetched 50 articles from 2023-12-04 to 2024-01-23\n",
      "Fetched 50 articles from 2024-01-24 to 2024-03-14\n",
      "Rate limit reached. Waiting to retry...\n",
      "Fetched 50 articles from 2024-03-15 to 2024-04-01\n",
      "Total articles fetched: 750\n"
     ]
    }
   ],
   "source": [
    "def fetch_news(api_key, ticker, start_date, end_date):\n",
    "    base_url = os.environ.get(\"endpointnewsp\")\n",
    "    headers = {\"Authorization\": f\"Bearer {api_key}\"}\n",
    "    all_news = []\n",
    "    \n",
    "    current_date = start_date\n",
    "\n",
    "    while current_date <= end_date:\n",
    "        batch_end_date = current_date + timedelta(days=50)\n",
    "        if batch_end_date > end_date:\n",
    "            batch_end_date = end_date\n",
    "\n",
    "        params = {\n",
    "            \"ticker\": ticker,\n",
    "            \"published_utc.gte\": current_date.strftime('%Y-%m-%d'),\n",
    "            \"published_utc.lte\": batch_end_date.strftime('%Y-%m-%d'),\n",
    "            \"limit\": 50,\n",
    "            \"sort\": \"published_utc\"\n",
    "        }\n",
    "\n",
    "        try:\n",
    "            response = requests.get(base_url, headers=headers, params=params)\n",
    "            if response.status_code == 200:\n",
    "                data = response.json()\n",
    "                articles = data.get('results', [])\n",
    "                all_news.extend(articles)\n",
    "                print(f\"Fetched {len(articles)} articles from {current_date.strftime('%Y-%m-%d')} to {batch_end_date.strftime('%Y-%m-%d')}\")\n",
    "                current_date = batch_end_date + timedelta(days=1)\n",
    "            elif response.status_code == 429:\n",
    "                print(\"Rate limit reached. Waiting to retry...\")\n",
    "                time.sleep(60)  # Wait for 60 seconds or as recommended by the API\n",
    "                continue  # Retry the current request\n",
    "            else:\n",
    "                print(f\"Failed to fetch data: {response.status_code}, {response.text}\")\n",
    "                break\n",
    "        except Exception as e:\n",
    "            print(f\"An error occurred: {e}\")\n",
    "            break\n",
    "\n",
    "    return all_news\n",
    "\n",
    "# Example usage\n",
    "api_key = os.environ.get('newsp_api')\n",
    "ticker = 'TSLA'\n",
    "start_date = datetime(2022, 4, 1)  # start date\n",
    "end_date = datetime(2024, 4, 1)\n",
    "news_articles = fetch_news(api_key, ticker, start_date, end_date)\n",
    "print(f\"Total articles fetched: {len(news_articles)}\")\n"
   ]
  },
  {
   "cell_type": "code",
   "execution_count": 3,
   "metadata": {},
   "outputs": [],
   "source": [
    "# Process the news articles\n",
    "df = process_news_articles(news_articles)"
   ]
  },
  {
   "cell_type": "code",
   "execution_count": 4,
   "metadata": {},
   "outputs": [
    {
     "name": "stdout",
     "output_type": "stream",
     "text": [
      "<class 'pandas.core.frame.DataFrame'>\n",
      "DatetimeIndex: 712 entries, 2022-05-21 to 2024-03-27\n",
      "Data columns (total 12 columns):\n",
      " #   Column       Non-Null Count  Dtype  \n",
      "---  ------       --------------  -----  \n",
      " 0   id           712 non-null    object \n",
      " 1   publisher    712 non-null    object \n",
      " 2   title        712 non-null    object \n",
      " 3   author       712 non-null    object \n",
      " 4   article_url  712 non-null    object \n",
      " 5   tickers      712 non-null    object \n",
      " 6   amp_url      712 non-null    object \n",
      " 7   image_url    712 non-null    object \n",
      " 8   description  712 non-null    object \n",
      " 9   keywords     712 non-null    object \n",
      " 10  sentiment    712 non-null    float64\n",
      " 11  time         712 non-null    object \n",
      "dtypes: float64(1), object(11)\n",
      "memory usage: 72.3+ KB\n"
     ]
    }
   ],
   "source": [
    "df.info()"
   ]
  },
  {
   "cell_type": "code",
   "execution_count": 6,
   "metadata": {},
   "outputs": [],
   "source": [
    "df= df.sort_index(ascending=False)"
   ]
  },
  {
   "cell_type": "code",
   "execution_count": 7,
   "metadata": {},
   "outputs": [],
   "source": [
    "df.to_csv('news_articles.csv', index=False)\n"
   ]
  },
  {
   "cell_type": "code",
   "execution_count": 8,
   "metadata": {},
   "outputs": [],
   "source": [
    "df_processed = exponential_moving_average(df, window=7)"
   ]
  },
  {
   "cell_type": "code",
   "execution_count": 9,
   "metadata": {},
   "outputs": [],
   "source": [
    "df_processed.to_csv('news_articles_ema.csv', index=False)"
   ]
  }
 ],
 "metadata": {
  "kernelspec": {
   "display_name": "base",
   "language": "python",
   "name": "python3"
  },
  "language_info": {
   "codemirror_mode": {
    "name": "ipython",
    "version": 3
   },
   "file_extension": ".py",
   "mimetype": "text/x-python",
   "name": "python",
   "nbconvert_exporter": "python",
   "pygments_lexer": "ipython3",
   "version": "3.11.4"
  },
  "orig_nbformat": 4
 },
 "nbformat": 4,
 "nbformat_minor": 2
}
